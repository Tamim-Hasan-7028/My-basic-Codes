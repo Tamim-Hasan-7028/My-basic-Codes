{
 "cells": [
  {
   "cell_type": "code",
   "execution_count": null,
   "id": "d553858e",
   "metadata": {},
   "outputs": [],
   "source": [
    "#Addition, Subtraction, Multiplication, Division, Modulo, Exponentiation"
   ]
  },
  {
   "cell_type": "code",
   "execution_count": 1,
   "id": "fc071dc5",
   "metadata": {},
   "outputs": [
    {
     "name": "stdout",
     "output_type": "stream",
     "text": [
      "8\n"
     ]
    }
   ],
   "source": [
    "print(5+3) #addition"
   ]
  },
  {
   "cell_type": "code",
   "execution_count": 2,
   "id": "f2aae8cc",
   "metadata": {},
   "outputs": [
    {
     "name": "stdout",
     "output_type": "stream",
     "text": [
      "2\n"
     ]
    }
   ],
   "source": [
    "print(5-3) #subtraction"
   ]
  },
  {
   "cell_type": "code",
   "execution_count": 3,
   "id": "92a44b4d",
   "metadata": {},
   "outputs": [
    {
     "name": "stdout",
     "output_type": "stream",
     "text": [
      "15\n"
     ]
    }
   ],
   "source": [
    "print(5*3) #multiplication"
   ]
  },
  {
   "cell_type": "code",
   "execution_count": 4,
   "id": "e2cf97b4",
   "metadata": {},
   "outputs": [
    {
     "name": "stdout",
     "output_type": "stream",
     "text": [
      "1.6666666666666667\n"
     ]
    }
   ],
   "source": [
    "print(5/3) #division"
   ]
  },
  {
   "cell_type": "code",
   "execution_count": 5,
   "id": "c88a4895",
   "metadata": {},
   "outputs": [
    {
     "name": "stdout",
     "output_type": "stream",
     "text": [
      "2\n"
     ]
    }
   ],
   "source": [
    "print(5%3) #modulo"
   ]
  },
  {
   "cell_type": "code",
   "execution_count": 6,
   "id": "105fe873",
   "metadata": {},
   "outputs": [
    {
     "name": "stdout",
     "output_type": "stream",
     "text": [
      "125\n"
     ]
    }
   ],
   "source": [
    "print(5**3) #exponentiation"
   ]
  },
  {
   "cell_type": "code",
   "execution_count": null,
   "id": "dc821c42",
   "metadata": {},
   "outputs": [],
   "source": []
  },
  {
   "cell_type": "code",
   "execution_count": null,
   "id": "2051245f",
   "metadata": {},
   "outputs": [],
   "source": [
    "#Suppose you have $100, which you can invest with a 10% return each year. After one year, it's 100 * 1.1 = 110 dollars and after two years, it's 100 * 1.1 * 1.1 = 121 dollars. Add code to calculate how much money you end up with after 7 years and print the result."
   ]
  },
  {
   "cell_type": "code",
   "execution_count": 1,
   "id": "aff415f4",
   "metadata": {},
   "outputs": [
    {
     "name": "stdout",
     "output_type": "stream",
     "text": [
      "194.87171000000012\n"
     ]
    }
   ],
   "source": [
    "print((1.1**7)*100)"
   ]
  }
 ],
 "metadata": {
  "kernelspec": {
   "display_name": "Python 3 (ipykernel)",
   "language": "python",
   "name": "python3"
  },
  "language_info": {
   "codemirror_mode": {
    "name": "ipython",
    "version": 3
   },
   "file_extension": ".py",
   "mimetype": "text/x-python",
   "name": "python",
   "nbconvert_exporter": "python",
   "pygments_lexer": "ipython3",
   "version": "3.9.12"
  }
 },
 "nbformat": 4,
 "nbformat_minor": 5
}
