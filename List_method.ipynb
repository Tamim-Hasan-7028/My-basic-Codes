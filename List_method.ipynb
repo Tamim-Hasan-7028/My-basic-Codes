{
  "nbformat": 4,
  "nbformat_minor": 0,
  "metadata": {
    "colab": {
      "provenance": [],
      "collapsed_sections": []
    },
    "kernelspec": {
      "name": "python3",
      "display_name": "Python 3"
    },
    "language_info": {
      "name": "python"
    }
  },
  "cells": [
    {
      "cell_type": "markdown",
      "source": [
        "List method"
      ],
      "metadata": {
        "id": "UoTJTw7cHzk-"
      }
    },
    {
      "cell_type": "code",
      "source": [
        "cars=20\n",
        "houses=30\n",
        "lands=10\n",
        "\n",
        "a=['total cars',cars,'total houses',houses,'total lands',lands]\n",
        "b=[cars,houses,lands]\n",
        "print(a)\n",
        "print(b)"
      ],
      "metadata": {
        "colab": {
          "base_uri": "https://localhost:8080/"
        },
        "id": "ZGbGM-Y_IHQC",
        "outputId": "32d6de0b-29fe-40f8-fdff-112ef39c40a0"
      },
      "execution_count": 70,
      "outputs": [
        {
          "output_type": "stream",
          "name": "stdout",
          "text": [
            "['total cars', 20, 'total houses', 30, 'total lands', 10]\n",
            "[20, 30, 10]\n"
          ]
        }
      ]
    },
    {
      "cell_type": "code",
      "source": [
        "print(type(a))"
      ],
      "metadata": {
        "colab": {
          "base_uri": "https://localhost:8080/"
        },
        "id": "Aj7rldAyPDj0",
        "outputId": "b8c02bb3-25a8-43b4-af54-b965e4ab4646"
      },
      "execution_count": 71,
      "outputs": [
        {
          "output_type": "stream",
          "name": "stdout",
          "text": [
            "<class 'list'>\n"
          ]
        }
      ]
    },
    {
      "cell_type": "markdown",
      "source": [
        "Subseting & Indexing"
      ],
      "metadata": {
        "id": "lLFw7JC7POq2"
      }
    },
    {
      "cell_type": "code",
      "source": [
        "print(a[1])"
      ],
      "metadata": {
        "colab": {
          "base_uri": "https://localhost:8080/"
        },
        "id": "zFXUhkX5PUMw",
        "outputId": "61fd2fce-d4d9-46af-c156-b9977da72fd7"
      },
      "execution_count": 72,
      "outputs": [
        {
          "output_type": "stream",
          "name": "stdout",
          "text": [
            "20\n"
          ]
        }
      ]
    },
    {
      "cell_type": "code",
      "source": [
        "print(a[0])"
      ],
      "metadata": {
        "colab": {
          "base_uri": "https://localhost:8080/"
        },
        "id": "mlXsugJWPaRg",
        "outputId": "607ca6fa-37da-4c0e-932e-c5a53afde912"
      },
      "execution_count": 73,
      "outputs": [
        {
          "output_type": "stream",
          "name": "stdout",
          "text": [
            "total cars\n"
          ]
        }
      ]
    },
    {
      "cell_type": "code",
      "source": [
        "total_cars_and_lands=a[1]+a[5]\n",
        "print(total_cars_and_lands)"
      ],
      "metadata": {
        "colab": {
          "base_uri": "https://localhost:8080/"
        },
        "id": "A8aia6TnPdeQ",
        "outputId": "ec271e8a-47a6-490b-b6f8-d7cd6c722bf0"
      },
      "execution_count": 74,
      "outputs": [
        {
          "output_type": "stream",
          "name": "stdout",
          "text": [
            "30\n"
          ]
        }
      ]
    },
    {
      "cell_type": "code",
      "source": [
        "print(a.index('total houses'))"
      ],
      "metadata": {
        "colab": {
          "base_uri": "https://localhost:8080/"
        },
        "id": "6lWe6qPgE6_1",
        "outputId": "4bcaf679-a9bb-4f2c-cae0-c5b9c3b87495"
      },
      "execution_count": 75,
      "outputs": [
        {
          "output_type": "stream",
          "name": "stdout",
          "text": [
            "2\n"
          ]
        }
      ]
    },
    {
      "cell_type": "code",
      "source": [
        "print(a.index(10))"
      ],
      "metadata": {
        "colab": {
          "base_uri": "https://localhost:8080/"
        },
        "id": "h0mqwXDnFUwK",
        "outputId": "de29904b-e72e-4caf-b5f4-b52b99c714f0"
      },
      "execution_count": 76,
      "outputs": [
        {
          "output_type": "stream",
          "name": "stdout",
          "text": [
            "5\n"
          ]
        }
      ]
    },
    {
      "cell_type": "markdown",
      "source": [
        "Slicing"
      ],
      "metadata": {
        "id": "jGN0J-3KQI-k"
      }
    },
    {
      "cell_type": "code",
      "source": [
        "cars_to_houses=a[:4]\n",
        "print(cars_to_houses)"
      ],
      "metadata": {
        "colab": {
          "base_uri": "https://localhost:8080/"
        },
        "id": "WNw--yx9QK6P",
        "outputId": "653fe0f4-2f5f-4fb3-f849-09f91554947a"
      },
      "execution_count": 77,
      "outputs": [
        {
          "output_type": "stream",
          "name": "stdout",
          "text": [
            "['total cars', 20, 'total houses', 30]\n"
          ]
        }
      ]
    },
    {
      "cell_type": "code",
      "source": [
        "houses_to_lands=a[-4:]\n",
        "print(houses_to_lands)"
      ],
      "metadata": {
        "colab": {
          "base_uri": "https://localhost:8080/"
        },
        "id": "Jdry6BcjQacQ",
        "outputId": "09ebecff-32ce-4894-9442-a77b931e4a6c"
      },
      "execution_count": 78,
      "outputs": [
        {
          "output_type": "stream",
          "name": "stdout",
          "text": [
            "['total houses', 30, 'total lands', 10]\n"
          ]
        }
      ]
    },
    {
      "cell_type": "markdown",
      "source": [
        "Taking a copy of list"
      ],
      "metadata": {
        "id": "771K9NYlQ8lR"
      }
    },
    {
      "cell_type": "code",
      "source": [
        "a_copy=a[:]\n",
        "print(a_copy)"
      ],
      "metadata": {
        "colab": {
          "base_uri": "https://localhost:8080/"
        },
        "id": "ewLm5i83Q_69",
        "outputId": "32a8059f-8f8b-4f3f-80a1-5a509e60264c"
      },
      "execution_count": 79,
      "outputs": [
        {
          "output_type": "stream",
          "name": "stdout",
          "text": [
            "['total cars', 20, 'total houses', 30, 'total lands', 10]\n"
          ]
        }
      ]
    },
    {
      "cell_type": "markdown",
      "source": [
        "Replace existing elements from list"
      ],
      "metadata": {
        "id": "owhkOL5fRwgH"
      }
    },
    {
      "cell_type": "code",
      "source": [
        "a_copy[0]='total bikes'\n",
        "a_copy[3]=35\n",
        "print(a_copy)"
      ],
      "metadata": {
        "colab": {
          "base_uri": "https://localhost:8080/"
        },
        "id": "q8bDXZu-R0LT",
        "outputId": "456cc7f4-bf08-4017-f793-dec61097b204"
      },
      "execution_count": 80,
      "outputs": [
        {
          "output_type": "stream",
          "name": "stdout",
          "text": [
            "['total bikes', 20, 'total houses', 35, 'total lands', 10]\n"
          ]
        }
      ]
    },
    {
      "cell_type": "markdown",
      "source": [
        "Addiion in list"
      ],
      "metadata": {
        "id": "Fg2lo_T8SfUf"
      }
    },
    {
      "cell_type": "code",
      "source": [
        "new_a_copy=a_copy+['total cars',15]\n",
        "print(new_a_copy)"
      ],
      "metadata": {
        "colab": {
          "base_uri": "https://localhost:8080/"
        },
        "id": "ZJ5UQEN2Sh_w",
        "outputId": "2784db76-a124-4191-d8a7-f82cde25f1ae"
      },
      "execution_count": 81,
      "outputs": [
        {
          "output_type": "stream",
          "name": "stdout",
          "text": [
            "['total bikes', 20, 'total houses', 35, 'total lands', 10, 'total cars', 15]\n"
          ]
        }
      ]
    },
    {
      "cell_type": "code",
      "source": [
        "new_a_copy2=new_a_copy+['total planes',5]\n",
        "print(new_a_copy2)"
      ],
      "metadata": {
        "colab": {
          "base_uri": "https://localhost:8080/"
        },
        "id": "xRS77tlmSupI",
        "outputId": "1997d087-0f13-42c3-f861-d633e43cc779"
      },
      "execution_count": 82,
      "outputs": [
        {
          "output_type": "stream",
          "name": "stdout",
          "text": [
            "['total bikes', 20, 'total houses', 35, 'total lands', 10, 'total cars', 15, 'total planes', 5]\n"
          ]
        }
      ]
    },
    {
      "cell_type": "markdown",
      "source": [
        "Copying & Deleting elements from list"
      ],
      "metadata": {
        "id": "5yzeVRuK3aTT"
      }
    },
    {
      "cell_type": "code",
      "source": [
        "new_a_copy3=new_a_copy2[:]\n",
        "print(new_a_copy3)\n",
        "del(new_a_copy3[4:6])\n",
        "print(new_a_copy3)"
      ],
      "metadata": {
        "colab": {
          "base_uri": "https://localhost:8080/"
        },
        "id": "Ow0zDdrE5ZMz",
        "outputId": "87c3595b-6de9-4c4f-9484-144802529c43"
      },
      "execution_count": 83,
      "outputs": [
        {
          "output_type": "stream",
          "name": "stdout",
          "text": [
            "['total bikes', 20, 'total houses', 35, 'total lands', 10, 'total cars', 15, 'total planes', 5]\n",
            "['total bikes', 20, 'total houses', 35, 'total cars', 15, 'total planes', 5]\n"
          ]
        }
      ]
    },
    {
      "cell_type": "markdown",
      "source": [
        "Len()= for calculating the length of a list or value.\n",
        "\n",
        "sorted(), takes three arguments: iterable, key, and reverse.\n",
        "key=None means that if you don't specify the key argument, it will be None. reverse=False means that if you don't specify the reverse argument, it will be False, by default in a list.\n",
        "\n",
        "count() is use to count the total number of a value in a list.\n",
        "\n",
        "index() is opposite of subseting in a list. We can find a value's index number. \n",
        "\n",
        "append() is use to add an element in list. \n",
        "\n",
        "remove() is use to removes the first element of a list that matches the input. \n",
        "\n",
        "reverse() is use to reverse the order of the elements in the list.\n",
        "\n",
        "upper() is use for upper all cases of the value.\n",
        "\n",
        "lower() is use for lower all cases of the value."
      ],
      "metadata": {
        "id": "xM9uno-l-XPf"
      }
    },
    {
      "cell_type": "code",
      "source": [
        "print(len(new_a_copy3))"
      ],
      "metadata": {
        "colab": {
          "base_uri": "https://localhost:8080/"
        },
        "id": "CEnPgiSCBRnk",
        "outputId": "86b6e5bd-75a2-48dc-beee-4404b07e9baf"
      },
      "execution_count": 84,
      "outputs": [
        {
          "output_type": "stream",
          "name": "stdout",
          "text": [
            "8\n"
          ]
        }
      ]
    },
    {
      "cell_type": "code",
      "source": [
        "print(b)\n",
        "print(len(b))\n",
        "print(sorted(b, reverse=True))\n",
        "print(b.count(10))\n",
        "print(b.index(30))\n",
        "\n",
        "\n",
        "b1=b[:]\n",
        "\n",
        "b1.append(10)\n",
        "print(b1)\n",
        "\n",
        "b1.remove(20)\n",
        "print(b1)\n",
        "\n",
        "b1.reverse()\n",
        "print(b1)"
      ],
      "metadata": {
        "colab": {
          "base_uri": "https://localhost:8080/",
          "height": 339
        },
        "id": "s1QdHtZPBsm_",
        "outputId": "9cf11199-ac66-4d46-c0ef-f292d9c1dbdf"
      },
      "execution_count": 107,
      "outputs": [
        {
          "output_type": "stream",
          "name": "stdout",
          "text": [
            "[20, 30, 10]\n",
            "3\n",
            "[30, 20, 10]\n",
            "1\n",
            "1\n",
            "[20, 30, 10, 10]\n",
            "[30, 10, 10]\n",
            "[10, 10, 30]\n"
          ]
        },
        {
          "output_type": "error",
          "ename": "TypeError",
          "evalue": "ignored",
          "traceback": [
            "\u001b[0;31m---------------------------------------------------------------------------\u001b[0m",
            "\u001b[0;31mTypeError\u001b[0m                                 Traceback (most recent call last)",
            "\u001b[0;32m<ipython-input-107-a73096f3c06b>\u001b[0m in \u001b[0;36m<module>\u001b[0;34m\u001b[0m\n\u001b[1;32m     17\u001b[0m \u001b[0mprint\u001b[0m\u001b[0;34m(\u001b[0m\u001b[0mb1\u001b[0m\u001b[0;34m)\u001b[0m\u001b[0;34m\u001b[0m\u001b[0;34m\u001b[0m\u001b[0m\n\u001b[1;32m     18\u001b[0m \u001b[0;34m\u001b[0m\u001b[0m\n\u001b[0;32m---> 19\u001b[0;31m \u001b[0mprint\u001b[0m\u001b[0;34m(\u001b[0m\u001b[0mb1\u001b[0m\u001b[0;34m[\u001b[0m\u001b[0mb1\u001b[0m\u001b[0;34m<\u001b[0m\u001b[0;36m20\u001b[0m\u001b[0;34m]\u001b[0m\u001b[0;34m)\u001b[0m\u001b[0;34m\u001b[0m\u001b[0;34m\u001b[0m\u001b[0m\n\u001b[0m",
            "\u001b[0;31mTypeError\u001b[0m: '<' not supported between instances of 'list' and 'int'"
          ]
        }
      ]
    },
    {
      "cell_type": "code",
      "source": [
        "c='DataCamp'\n",
        "print(c.upper())\n",
        "print(c.lower())\n",
        "print(c.count('a'))"
      ],
      "metadata": {
        "colab": {
          "base_uri": "https://localhost:8080/"
        },
        "id": "DGq2ip4wB7pd",
        "outputId": "7949c3d9-d8f4-4d31-cbfa-319f626daa6b"
      },
      "execution_count": 106,
      "outputs": [
        {
          "output_type": "stream",
          "name": "stdout",
          "text": [
            "DATACAMP\n",
            "datacamp\n",
            "3\n"
          ]
        }
      ]
    }
  ]
}