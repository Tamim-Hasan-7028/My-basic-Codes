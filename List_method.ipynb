{
  "nbformat": 4,
  "nbformat_minor": 0,
  "metadata": {
    "colab": {
      "provenance": [],
      "collapsed_sections": []
    },
    "kernelspec": {
      "name": "python3",
      "display_name": "Python 3"
    },
    "language_info": {
      "name": "python"
    }
  },
  "cells": [
    {
      "cell_type": "markdown",
      "source": [
        "List method"
      ],
      "metadata": {
        "id": "UoTJTw7cHzk-"
      }
    },
    {
      "cell_type": "code",
      "source": [
        "cars=20\n",
        "houses=30\n",
        "lands=10\n",
        "\n",
        "a=['total cars',cars,'total houses',houses,'total lands',lands]\n",
        "b=[cars,houses,lands]\n",
        "print(a)\n",
        "print(b)"
      ],
      "metadata": {
        "colab": {
          "base_uri": "https://localhost:8080/"
        },
        "id": "ZGbGM-Y_IHQC",
        "outputId": "10504612-052a-49a0-f4ba-d954e07aafc1"
      },
      "execution_count": null,
      "outputs": [
        {
          "output_type": "stream",
          "name": "stdout",
          "text": [
            "['total cars', 20, 'total houses', 30, 'total lands', 10]\n",
            "[20, 30, 10]\n"
          ]
        }
      ]
    },
    {
      "cell_type": "code",
      "source": [
        "print(type(a))"
      ],
      "metadata": {
        "colab": {
          "base_uri": "https://localhost:8080/"
        },
        "id": "Aj7rldAyPDj0",
        "outputId": "6fdb2fff-da6c-4cac-db04-8905dbb3304d"
      },
      "execution_count": null,
      "outputs": [
        {
          "output_type": "stream",
          "name": "stdout",
          "text": [
            "<class 'list'>\n"
          ]
        }
      ]
    },
    {
      "cell_type": "markdown",
      "source": [
        "Subseting & Indexing"
      ],
      "metadata": {
        "id": "lLFw7JC7POq2"
      }
    },
    {
      "cell_type": "code",
      "source": [
        "print(a[1])"
      ],
      "metadata": {
        "colab": {
          "base_uri": "https://localhost:8080/"
        },
        "id": "zFXUhkX5PUMw",
        "outputId": "b6201702-3da6-45c3-dc8b-3d617b15fba1"
      },
      "execution_count": null,
      "outputs": [
        {
          "output_type": "stream",
          "name": "stdout",
          "text": [
            "20\n"
          ]
        }
      ]
    },
    {
      "cell_type": "code",
      "source": [
        "print(a[0])"
      ],
      "metadata": {
        "colab": {
          "base_uri": "https://localhost:8080/"
        },
        "id": "mlXsugJWPaRg",
        "outputId": "756351ad-0ace-4050-9fce-8336be09651f"
      },
      "execution_count": null,
      "outputs": [
        {
          "output_type": "stream",
          "name": "stdout",
          "text": [
            "total cars\n"
          ]
        }
      ]
    },
    {
      "cell_type": "code",
      "source": [
        "total_cars_and_lands=a[1]+a[5]\n",
        "print(total_cars_and_lands)"
      ],
      "metadata": {
        "colab": {
          "base_uri": "https://localhost:8080/"
        },
        "id": "A8aia6TnPdeQ",
        "outputId": "6eee145f-7bc9-41e9-8be8-bfb9fde2183e"
      },
      "execution_count": null,
      "outputs": [
        {
          "output_type": "stream",
          "name": "stdout",
          "text": [
            "30\n"
          ]
        }
      ]
    },
    {
      "cell_type": "code",
      "source": [
        "print(a.index('total houses'))"
      ],
      "metadata": {
        "colab": {
          "base_uri": "https://localhost:8080/"
        },
        "id": "6lWe6qPgE6_1",
        "outputId": "21b534e1-ce75-41e7-ba84-df728665e176"
      },
      "execution_count": null,
      "outputs": [
        {
          "output_type": "stream",
          "name": "stdout",
          "text": [
            "2\n"
          ]
        }
      ]
    },
    {
      "cell_type": "code",
      "source": [
        "print(a.index(10))"
      ],
      "metadata": {
        "colab": {
          "base_uri": "https://localhost:8080/"
        },
        "id": "h0mqwXDnFUwK",
        "outputId": "a98c3b43-98fc-47c9-9191-1c12f941bba8"
      },
      "execution_count": null,
      "outputs": [
        {
          "output_type": "stream",
          "name": "stdout",
          "text": [
            "5\n"
          ]
        }
      ]
    },
    {
      "cell_type": "markdown",
      "source": [
        "Slicing"
      ],
      "metadata": {
        "id": "jGN0J-3KQI-k"
      }
    },
    {
      "cell_type": "code",
      "source": [
        "cars_to_houses=a[:4]\n",
        "print(cars_to_houses)"
      ],
      "metadata": {
        "colab": {
          "base_uri": "https://localhost:8080/"
        },
        "id": "WNw--yx9QK6P",
        "outputId": "06fa2c3c-ecaf-44c6-d562-00bcc1e5253f"
      },
      "execution_count": null,
      "outputs": [
        {
          "output_type": "stream",
          "name": "stdout",
          "text": [
            "['total cars', 20, 'total houses', 30]\n"
          ]
        }
      ]
    },
    {
      "cell_type": "code",
      "source": [
        "houses_to_lands=a[-4:]\n",
        "print(houses_to_lands)"
      ],
      "metadata": {
        "colab": {
          "base_uri": "https://localhost:8080/"
        },
        "id": "Jdry6BcjQacQ",
        "outputId": "2fef2a9a-2a5c-418f-fccd-9ca14dd7c1e1"
      },
      "execution_count": null,
      "outputs": [
        {
          "output_type": "stream",
          "name": "stdout",
          "text": [
            "['total houses', 30, 'total lands', 10]\n"
          ]
        }
      ]
    },
    {
      "cell_type": "markdown",
      "source": [
        "Taking a copy of list"
      ],
      "metadata": {
        "id": "771K9NYlQ8lR"
      }
    },
    {
      "cell_type": "code",
      "source": [
        "a_copy=a[:]\n",
        "print(a_copy)"
      ],
      "metadata": {
        "colab": {
          "base_uri": "https://localhost:8080/"
        },
        "id": "ewLm5i83Q_69",
        "outputId": "ee4e7f5c-463a-4b36-a697-73cf8f0d5e3e"
      },
      "execution_count": null,
      "outputs": [
        {
          "output_type": "stream",
          "name": "stdout",
          "text": [
            "['total cars', 20, 'total houses', 30, 'total lands', 10]\n"
          ]
        }
      ]
    },
    {
      "cell_type": "markdown",
      "source": [
        "Replace existing elements from list"
      ],
      "metadata": {
        "id": "owhkOL5fRwgH"
      }
    },
    {
      "cell_type": "code",
      "source": [
        "a_copy[0]='total bikes'\n",
        "a_copy[3]=35\n",
        "print(a_copy)"
      ],
      "metadata": {
        "colab": {
          "base_uri": "https://localhost:8080/"
        },
        "id": "q8bDXZu-R0LT",
        "outputId": "8ae6a870-f483-491a-8188-204fb483f126"
      },
      "execution_count": null,
      "outputs": [
        {
          "output_type": "stream",
          "name": "stdout",
          "text": [
            "['total bikes', 20, 'total houses', 35, 'total lands', 10]\n"
          ]
        }
      ]
    },
    {
      "cell_type": "markdown",
      "source": [
        "Addiion in list"
      ],
      "metadata": {
        "id": "Fg2lo_T8SfUf"
      }
    },
    {
      "cell_type": "code",
      "source": [
        "new_a_copy=a_copy+['total cars',15]\n",
        "print(new_a_copy)"
      ],
      "metadata": {
        "colab": {
          "base_uri": "https://localhost:8080/"
        },
        "id": "ZJ5UQEN2Sh_w",
        "outputId": "28349dce-d719-409f-ce55-2ff5e8efcd90"
      },
      "execution_count": null,
      "outputs": [
        {
          "output_type": "stream",
          "name": "stdout",
          "text": [
            "['total bikes', 20, 'total houses', 35, 'total lands', 10, 'total cars', 15]\n"
          ]
        }
      ]
    },
    {
      "cell_type": "code",
      "source": [
        "new_a_copy2=new_a_copy+['total planes',5]\n",
        "print(new_a_copy2)"
      ],
      "metadata": {
        "colab": {
          "base_uri": "https://localhost:8080/"
        },
        "id": "xRS77tlmSupI",
        "outputId": "2cd0c625-7cd3-405d-b6f7-3c9782a31ca8"
      },
      "execution_count": null,
      "outputs": [
        {
          "output_type": "stream",
          "name": "stdout",
          "text": [
            "['total bikes', 20, 'total houses', 35, 'total lands', 10, 'total cars', 15, 'total planes', 5]\n"
          ]
        }
      ]
    },
    {
      "cell_type": "markdown",
      "source": [
        "Copying & Deleting elements from list"
      ],
      "metadata": {
        "id": "5yzeVRuK3aTT"
      }
    },
    {
      "cell_type": "code",
      "source": [
        "new_a_copy3=new_a_copy2[:]\n",
        "print(new_a_copy3)\n",
        "del(new_a_copy3[4:6])\n",
        "print(new_a_copy3)"
      ],
      "metadata": {
        "colab": {
          "base_uri": "https://localhost:8080/"
        },
        "id": "Ow0zDdrE5ZMz",
        "outputId": "a4772c48-53df-4709-d1e9-ee808acd4750"
      },
      "execution_count": null,
      "outputs": [
        {
          "output_type": "stream",
          "name": "stdout",
          "text": [
            "['total bikes', 20, 'total houses', 35, 'total lands', 10, 'total cars', 15, 'total planes', 5]\n",
            "['total bikes', 20, 'total houses', 35, 'total cars', 15, 'total planes', 5]\n"
          ]
        }
      ]
    },
    {
      "cell_type": "markdown",
      "source": [
        "Len()= for calculating the length of a list or value.\n",
        "\n",
        "sorted(), takes three arguments: iterable, key, and reverse.\n",
        "key=None means that if you don't specify the key argument, it will be None. reverse=False means that if you don't specify the reverse argument, it will be False, by default in a list.\n",
        "\n",
        "count() is use to count the total number of a value in a list.\n",
        "\n",
        "index() is opposite of subseting in a list. We can find a value's index number. \n",
        "\n",
        "append() is use to add an element in list. \n",
        "\n",
        "remove() is use to removes the first element of a list that matches the input. \n",
        "\n",
        "reverse() is use to reverse the order of the elements in the list.\n",
        "\n",
        "upper() is use for upper all cases of the value.\n",
        "\n",
        "lower() is use for lower all cases of the value."
      ],
      "metadata": {
        "id": "xM9uno-l-XPf"
      }
    },
    {
      "cell_type": "code",
      "source": [
        "print(len(new_a_copy3))"
      ],
      "metadata": {
        "colab": {
          "base_uri": "https://localhost:8080/"
        },
        "id": "CEnPgiSCBRnk",
        "outputId": "6e301f75-34be-4b71-d470-3e2313d14e2d"
      },
      "execution_count": null,
      "outputs": [
        {
          "output_type": "stream",
          "name": "stdout",
          "text": [
            "8\n"
          ]
        }
      ]
    },
    {
      "cell_type": "code",
      "source": [
        "print(b)\n",
        "print(len(b))\n",
        "print(sorted(b, reverse=True))\n",
        "print(b.count(10))\n",
        "print(b.index(30))\n",
        "\n",
        "\n",
        "b1=b[:]\n",
        "\n",
        "b1.append(10)\n",
        "print(b1)\n",
        "\n",
        "b1.remove(20)\n",
        "print(b1)\n",
        "\n",
        "b1.reverse()\n",
        "print(b1)"
      ],
      "metadata": {
        "colab": {
          "base_uri": "https://localhost:8080/"
        },
        "id": "s1QdHtZPBsm_",
        "outputId": "33b2e747-43ef-48f1-8c76-eb29800ebb7b"
      },
      "execution_count": null,
      "outputs": [
        {
          "output_type": "stream",
          "name": "stdout",
          "text": [
            "[20, 30, 10]\n",
            "3\n",
            "[30, 20, 10]\n",
            "1\n",
            "1\n",
            "[20, 30, 10, 10]\n",
            "[30, 10, 10]\n",
            "[10, 10, 30]\n"
          ]
        }
      ]
    },
    {
      "cell_type": "code",
      "source": [
        "c='DataCamp'\n",
        "print(c.upper())\n",
        "print(c.lower())\n",
        "print(c.count('a'))"
      ],
      "metadata": {
        "colab": {
          "base_uri": "https://localhost:8080/"
        },
        "id": "DGq2ip4wB7pd",
        "outputId": "4f22c771-55dd-4a4a-b728-cf2dccea708f"
      },
      "execution_count": null,
      "outputs": [
        {
          "output_type": "stream",
          "name": "stdout",
          "text": [
            "DATACAMP\n",
            "datacamp\n",
            "3\n"
          ]
        }
      ]
    },
    {
      "cell_type": "markdown",
      "source": [
        "List of list"
      ],
      "metadata": {
        "id": "7GEooeO2xvgw"
      }
    },
    {
      "cell_type": "code",
      "source": [
        "x=[[1,2,3],[4,5,6],[7,8,9]]"
      ],
      "metadata": {
        "colab": {
          "base_uri": "https://localhost:8080/"
        },
        "id": "0ZsXp4kWxx3g",
        "outputId": "8a2c3492-152d-4a09-f48f-55fa12b4e412"
      },
      "execution_count": null,
      "outputs": [
        {
          "output_type": "stream",
          "name": "stdout",
          "text": [
            "9\n"
          ]
        }
      ]
    },
    {
      "cell_type": "markdown",
      "source": [
        "Subsetting of list of list\n",
        "\n",
        "fisrt 2 means the list index of the list ans 2nd 2 means the number of index of list of list."
      ],
      "metadata": {
        "id": "1aNSKVT6yiPk"
      }
    },
    {
      "cell_type": "code",
      "source": [
        "print(x[2][2]) \n",
        "print(x[0][1])"
      ],
      "metadata": {
        "colab": {
          "base_uri": "https://localhost:8080/"
        },
        "id": "rvrNJPeNylY0",
        "outputId": "4b80fdb7-d735-4d38-f3e3-fbfcade16523"
      },
      "execution_count": null,
      "outputs": [
        {
          "output_type": "stream",
          "name": "stdout",
          "text": [
            "9\n",
            "2\n"
          ]
        }
      ]
    },
    {
      "cell_type": "markdown",
      "source": [
        "Slicing of list of list."
      ],
      "metadata": {
        "id": "JkORd88qzPOB"
      }
    },
    {
      "cell_type": "code",
      "source": [
        "print(x[1][1:])\n",
        "\n",
        "print(x[2][:])"
      ],
      "metadata": {
        "colab": {
          "base_uri": "https://localhost:8080/"
        },
        "id": "2DeBT38szRlz",
        "outputId": "a3a6f604-d6ae-442e-a6ed-8603458c4e54"
      },
      "execution_count": 13,
      "outputs": [
        {
          "output_type": "stream",
          "name": "stdout",
          "text": [
            "[5, 6]\n",
            "[7, 8, 9]\n"
          ]
        }
      ]
    }
  ]
}