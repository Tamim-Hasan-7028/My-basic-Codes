{
  "nbformat": 4,
  "nbformat_minor": 0,
  "metadata": {
    "colab": {
      "provenance": [],
      "collapsed_sections": []
    },
    "kernelspec": {
      "name": "python3",
      "display_name": "Python 3"
    },
    "language_info": {
      "name": "python"
    }
  },
  "cells": [
    {
      "cell_type": "markdown",
      "source": [],
      "metadata": {
        "id": "KTBeMg6jHj8l"
      }
    },
    {
      "cell_type": "markdown",
      "source": [
        "List method"
      ],
      "metadata": {
        "id": "UoTJTw7cHzk-"
      }
    },
    {
      "cell_type": "code",
      "source": [
        "cars=20\n",
        "houses=30\n",
        "lands=10\n",
        "\n",
        "a=['total cars',cars,'total houses',houses,'total lands',lands]\n",
        "print(a)"
      ],
      "metadata": {
        "colab": {
          "base_uri": "https://localhost:8080/"
        },
        "id": "ZGbGM-Y_IHQC",
        "outputId": "e32ada93-d86d-4578-bd1b-7b752b9ca6f6"
      },
      "execution_count": 5,
      "outputs": [
        {
          "output_type": "stream",
          "name": "stdout",
          "text": [
            "['total cars', 20, 'total houses', 30, 'total lands', 10]\n"
          ]
        }
      ]
    },
    {
      "cell_type": "code",
      "source": [
        "print(type(a))"
      ],
      "metadata": {
        "colab": {
          "base_uri": "https://localhost:8080/"
        },
        "id": "Aj7rldAyPDj0",
        "outputId": "b7e23b51-5621-499c-bb45-a113cb9ea08d"
      },
      "execution_count": 6,
      "outputs": [
        {
          "output_type": "stream",
          "name": "stdout",
          "text": [
            "<class 'list'>\n"
          ]
        }
      ]
    },
    {
      "cell_type": "markdown",
      "source": [
        "Subseting"
      ],
      "metadata": {
        "id": "lLFw7JC7POq2"
      }
    },
    {
      "cell_type": "code",
      "source": [
        "print(a[1])"
      ],
      "metadata": {
        "colab": {
          "base_uri": "https://localhost:8080/"
        },
        "id": "zFXUhkX5PUMw",
        "outputId": "7762696b-2b95-4a27-cdab-5f2479fd89cc"
      },
      "execution_count": 7,
      "outputs": [
        {
          "output_type": "stream",
          "name": "stdout",
          "text": [
            "20\n"
          ]
        }
      ]
    },
    {
      "cell_type": "code",
      "source": [
        "print(a[0])"
      ],
      "metadata": {
        "colab": {
          "base_uri": "https://localhost:8080/"
        },
        "id": "mlXsugJWPaRg",
        "outputId": "70e79b28-eab1-4740-8b26-2f1137564075"
      },
      "execution_count": 8,
      "outputs": [
        {
          "output_type": "stream",
          "name": "stdout",
          "text": [
            "total cars\n"
          ]
        }
      ]
    },
    {
      "cell_type": "code",
      "source": [
        "total_cars_and_lands=a[1]+a[5]\n",
        "print(total_cars_and_lands)"
      ],
      "metadata": {
        "colab": {
          "base_uri": "https://localhost:8080/"
        },
        "id": "A8aia6TnPdeQ",
        "outputId": "4a8219df-916e-4849-ed7e-4a2122db4e9c"
      },
      "execution_count": 9,
      "outputs": [
        {
          "output_type": "stream",
          "name": "stdout",
          "text": [
            "30\n"
          ]
        }
      ]
    },
    {
      "cell_type": "markdown",
      "source": [
        "Slicing"
      ],
      "metadata": {
        "id": "jGN0J-3KQI-k"
      }
    },
    {
      "cell_type": "code",
      "source": [
        "cars_to_houses=a[:4]\n",
        "print(cars_to_houses)"
      ],
      "metadata": {
        "colab": {
          "base_uri": "https://localhost:8080/"
        },
        "id": "WNw--yx9QK6P",
        "outputId": "50756c48-e793-40f8-ba23-a852b76e9cf1"
      },
      "execution_count": 10,
      "outputs": [
        {
          "output_type": "stream",
          "name": "stdout",
          "text": [
            "['total cars', 20, 'total houses', 30]\n"
          ]
        }
      ]
    },
    {
      "cell_type": "code",
      "source": [
        "houses_to_lands=a[-4:]\n",
        "print(houses_to_lands)"
      ],
      "metadata": {
        "colab": {
          "base_uri": "https://localhost:8080/"
        },
        "id": "Jdry6BcjQacQ",
        "outputId": "1f244fc3-d4c8-4f91-c0aa-5f7fd71cdfdf"
      },
      "execution_count": 11,
      "outputs": [
        {
          "output_type": "stream",
          "name": "stdout",
          "text": [
            "['total houses', 30, 'total lands', 10]\n"
          ]
        }
      ]
    },
    {
      "cell_type": "markdown",
      "source": [
        "Taking a copy of list"
      ],
      "metadata": {
        "id": "771K9NYlQ8lR"
      }
    },
    {
      "cell_type": "code",
      "source": [
        "a_copy=a[:]\n",
        "print(a_copy)"
      ],
      "metadata": {
        "colab": {
          "base_uri": "https://localhost:8080/"
        },
        "id": "ewLm5i83Q_69",
        "outputId": "1990eab7-2580-4380-e3b4-07be696508c2"
      },
      "execution_count": 12,
      "outputs": [
        {
          "output_type": "stream",
          "name": "stdout",
          "text": [
            "['total cars', 20, 'total houses', 30, 'total lands', 10]\n"
          ]
        }
      ]
    },
    {
      "cell_type": "markdown",
      "source": [
        "Replace existing elements from list"
      ],
      "metadata": {
        "id": "owhkOL5fRwgH"
      }
    },
    {
      "cell_type": "code",
      "source": [
        "a_copy[0]='total bikes'\n",
        "a_copy[3]=35\n",
        "print(a_copy)"
      ],
      "metadata": {
        "colab": {
          "base_uri": "https://localhost:8080/"
        },
        "id": "q8bDXZu-R0LT",
        "outputId": "42bdd657-2288-4313-b0fc-f410a2debf35"
      },
      "execution_count": 13,
      "outputs": [
        {
          "output_type": "stream",
          "name": "stdout",
          "text": [
            "['total bikes', 20, 'total houses', 35, 'total lands', 10]\n"
          ]
        }
      ]
    },
    {
      "cell_type": "markdown",
      "source": [
        "Addiion in list"
      ],
      "metadata": {
        "id": "Fg2lo_T8SfUf"
      }
    },
    {
      "cell_type": "code",
      "source": [
        "new_a_copy=a_copy+['total cars',15]\n",
        "print(new_a_copy)"
      ],
      "metadata": {
        "colab": {
          "base_uri": "https://localhost:8080/"
        },
        "id": "ZJ5UQEN2Sh_w",
        "outputId": "50b7b4c5-1d48-4e70-eb4d-fc8f6a70994c"
      },
      "execution_count": 14,
      "outputs": [
        {
          "output_type": "stream",
          "name": "stdout",
          "text": [
            "['total bikes', 20, 'total houses', 35, 'total lands', 10, 'total cars', 15]\n"
          ]
        }
      ]
    },
    {
      "cell_type": "code",
      "source": [
        "new_a_copy2=new_a_copy+['total planes',5]\n",
        "print(new_a_copy2)"
      ],
      "metadata": {
        "colab": {
          "base_uri": "https://localhost:8080/"
        },
        "id": "xRS77tlmSupI",
        "outputId": "dbb39bd2-480e-483f-8804-c08ec0c49e5a"
      },
      "execution_count": 23,
      "outputs": [
        {
          "output_type": "stream",
          "name": "stdout",
          "text": [
            "['total bikes', 20, 'total houses', 35, 'total lands', 10, 'total cars', 15, 'total planes', 5]\n"
          ]
        }
      ]
    },
    {
      "cell_type": "markdown",
      "source": [
        "Copying & Deleting elements from list"
      ],
      "metadata": {
        "id": "5yzeVRuK3aTT"
      }
    },
    {
      "cell_type": "code",
      "source": [
        "new_a_copy3=new_a_copy2[:]\n",
        "print(new_a_copy3)\n",
        "del(new_a_copy3[4:6])\n",
        "print(new_a_copy3)"
      ],
      "metadata": {
        "colab": {
          "base_uri": "https://localhost:8080/"
        },
        "id": "Ow0zDdrE5ZMz",
        "outputId": "80e98621-2e88-4a85-9fec-696eafcda0e7"
      },
      "execution_count": 39,
      "outputs": [
        {
          "output_type": "stream",
          "name": "stdout",
          "text": [
            "['total bikes', 20, 'total houses', 35, 'total lands', 10, 'total cars', 15, 'total planes', 5]\n",
            "['total bikes', 20, 'total houses', 35, 'total cars', 15, 'total planes', 5]\n"
          ]
        }
      ]
    }
  ]
}