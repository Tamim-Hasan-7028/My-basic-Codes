{
  "nbformat": 4,
  "nbformat_minor": 0,
  "metadata": {
    "colab": {
      "provenance": []
    },
    "kernelspec": {
      "name": "python3",
      "display_name": "Python 3"
    },
    "language_info": {
      "name": "python"
    }
  },
  "cells": [
    {
      "cell_type": "markdown",
      "source": [
        "Use of variables"
      ],
      "metadata": {
        "id": "zYDSCVATcPbh"
      }
    },
    {
      "cell_type": "code",
      "source": [
        "savings=1000\n",
        "growth=1.5\n",
        "costing=400\n",
        "total=(savings*growth)-costing\n",
        "print(total)"
      ],
      "metadata": {
        "colab": {
          "base_uri": "https://localhost:8080/"
        },
        "id": "a_34nqiwcS_l",
        "outputId": "3d297757-692b-44a3-d50e-d768ac306057"
      },
      "execution_count": 1,
      "outputs": [
        {
          "output_type": "stream",
          "name": "stdout",
          "text": [
            "1100.0\n"
          ]
        }
      ]
    },
    {
      "cell_type": "markdown",
      "source": [
        "Using type() syntex"
      ],
      "metadata": {
        "id": "MlM_pHZQdbem"
      }
    },
    {
      "cell_type": "code",
      "source": [
        "print(type(total))"
      ],
      "metadata": {
        "colab": {
          "base_uri": "https://localhost:8080/"
        },
        "id": "809fjNvJdf1J",
        "outputId": "56ed0f34-bcfd-4a3a-c31c-f46a8e666fb3"
      },
      "execution_count": 2,
      "outputs": [
        {
          "output_type": "stream",
          "name": "stdout",
          "text": [
            "<class 'float'>\n"
          ]
        }
      ]
    },
    {
      "cell_type": "code",
      "source": [
        "print(type(savings))"
      ],
      "metadata": {
        "colab": {
          "base_uri": "https://localhost:8080/"
        },
        "id": "z5r-Hw2Ndi6h",
        "outputId": "fe8f340c-bbd3-46ee-cbe5-5e7b3f6a0f4a"
      },
      "execution_count": 3,
      "outputs": [
        {
          "output_type": "stream",
          "name": "stdout",
          "text": [
            "<class 'int'>\n"
          ]
        }
      ]
    },
    {
      "cell_type": "markdown",
      "source": [
        "in print(), we have to work with only str() or only int() or only float() or only bool(). We can't mixup those data types. Otherwise it will show an error."
      ],
      "metadata": {
        "id": "ZAdHmIEgd_lI"
      }
    },
    {
      "cell_type": "code",
      "source": [
        "print('This month I saved '+str(savings)+' tk and my earning growth was '+str(growth)+' but I spend '+str(costing)+' tk, so I have total '+str(total)+' tk.')"
      ],
      "metadata": {
        "colab": {
          "base_uri": "https://localhost:8080/"
        },
        "id": "YU6N-kxSeUTY",
        "outputId": "ef30e15a-bec6-40ce-f50f-130ed22d2f36"
      },
      "execution_count": 4,
      "outputs": [
        {
          "output_type": "stream",
          "name": "stdout",
          "text": [
            "This month I saved 1000 tk and my earning growth was 1.5 but I spend 400 tk, so I have total 1100.0 tk.\n"
          ]
        }
      ]
    }
  ]
}