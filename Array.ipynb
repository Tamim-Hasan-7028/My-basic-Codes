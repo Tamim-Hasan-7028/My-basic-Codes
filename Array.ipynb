{
  "nbformat": 4,
  "nbformat_minor": 0,
  "metadata": {
    "colab": {
      "provenance": [],
      "collapsed_sections": []
    },
    "kernelspec": {
      "name": "python3",
      "display_name": "Python 3"
    },
    "language_info": {
      "name": "python"
    }
  },
  "cells": [
    {
      "cell_type": "markdown",
      "source": [
        "1D Numpy Array\n",
        "\n"
      ],
      "metadata": {
        "id": "hGkXai9I1KCh"
      }
    },
    {
      "cell_type": "code",
      "source": [
        "a=['AC','BW','AC','AC','BW']\n",
        "b=[10,87,34,65,21]\n",
        "\n",
        "import numpy as np\n",
        "np_a=np.array(a)\n",
        "np_b=np.array(b)\n",
        "\n",
        "print(type(a))\n",
        "print(type(np_a))"
      ],
      "metadata": {
        "colab": {
          "base_uri": "https://localhost:8080/"
        },
        "id": "DgDfJYMt1hdu",
        "outputId": "3473e988-eced-46db-cf99-83b15a8de2a5"
      },
      "execution_count": null,
      "outputs": [
        {
          "output_type": "stream",
          "name": "stdout",
          "text": [
            "<class 'list'>\n",
            "<class 'numpy.ndarray'>\n"
          ]
        }
      ]
    },
    {
      "cell_type": "code",
      "source": [
        "print(np_a)\n",
        "print(np_b)"
      ],
      "metadata": {
        "colab": {
          "base_uri": "https://localhost:8080/"
        },
        "id": "KawoLRQD3pQ5",
        "outputId": "e8474aac-e835-48d4-a23f-0899c0a2f7b9"
      },
      "execution_count": null,
      "outputs": [
        {
          "output_type": "stream",
          "name": "stdout",
          "text": [
            "['AC' 'BW' 'AC' 'AC' 'BW']\n",
            "[10 87 34 65 21]\n"
          ]
        }
      ]
    },
    {
      "cell_type": "markdown",
      "source": [
        "Array Operations"
      ],
      "metadata": {
        "id": "fCg-zumk6jFP"
      }
    },
    {
      "cell_type": "code",
      "source": [
        "np_b2=np_b*2\n",
        "print(np_b2)\n",
        "\n",
        "np_b3=np_b+np_b2\n",
        "print(np_b3)\n",
        "print(type(np_b3))\n",
        "\n",
        "np_B=(np_b3**2)/(np_b**3)\n",
        "print(np_B)\n",
        "print(type(np_B))"
      ],
      "metadata": {
        "colab": {
          "base_uri": "https://localhost:8080/"
        },
        "id": "qTdmO4Im2_7X",
        "outputId": "5da23690-a412-4637-80d1-e94c780c32b0"
      },
      "execution_count": null,
      "outputs": [
        {
          "output_type": "stream",
          "name": "stdout",
          "text": [
            "[ 20 174  68 130  42]\n",
            "[ 30 261 102 195  63]\n",
            "<class 'numpy.ndarray'>\n",
            "[0.9        0.10344828 0.26470588 0.13846154 0.42857143]\n",
            "<class 'numpy.ndarray'>\n"
          ]
        }
      ]
    },
    {
      "cell_type": "markdown",
      "source": [
        "Array Slicing, Subsetting"
      ],
      "metadata": {
        "id": "kw0uwhGc6oHi"
      }
    },
    {
      "cell_type": "code",
      "source": [
        "np_B_less=np_B[np_B<0.2]  #subsetting with conditions\n",
        "print(np_B_less)\n",
        "print(type(np_B_less))\n",
        "\n",
        "print(np_B[2:4])  #slicing\n",
        "\n",
        "print(np_B[1]) #subsetting"
      ],
      "metadata": {
        "colab": {
          "base_uri": "https://localhost:8080/"
        },
        "id": "zaEw39oK5Unx",
        "outputId": "656e9879-c784-45a3-bc62-b9166aaea205"
      },
      "execution_count": null,
      "outputs": [
        {
          "output_type": "stream",
          "name": "stdout",
          "text": [
            "[0.10344828 0.13846154]\n",
            "<class 'numpy.ndarray'>\n",
            "[0.26470588 0.13846154]\n",
            "0.10344827586206896\n"
          ]
        }
      ]
    },
    {
      "cell_type": "code",
      "source": [
        "AC_value=np_b[np_a=='AC']  #subsetting with conditions\n",
        "print(AC_value)\n",
        "\n",
        "BW_value=np_b[np_a!='AC']\n",
        "print(BW_value)"
      ],
      "metadata": {
        "colab": {
          "base_uri": "https://localhost:8080/"
        },
        "id": "_KBSqR0z5UlL",
        "outputId": "eb8015f1-411a-45e1-8ebd-fb3013e8df1d"
      },
      "execution_count": null,
      "outputs": [
        {
          "output_type": "stream",
          "name": "stdout",
          "text": [
            "[10 34 65]\n",
            "[87 21]\n"
          ]
        }
      ]
    },
    {
      "cell_type": "markdown",
      "source": [
        "2D Numpy Array.\n",
        "Array of list of list is called 2D Numpy Array."
      ],
      "metadata": {
        "id": "MtwNvUlE_cis"
      }
    },
    {
      "cell_type": "code",
      "source": [
        "H_W_A=[[181, 88.4, 35],[184, 91.7, 31],[183, 90.5, 29],[188, 85.2, 30],[189, 87.3, 33]]\n",
        "#H=height, W=weight, A=age\n",
        "np_H_W_A=np.array(H_W_A)\n",
        "print(np_H_W_A)\n",
        "print(np_H_W_A.shape)"
      ],
      "metadata": {
        "colab": {
          "base_uri": "https://localhost:8080/"
        },
        "id": "tlY7aoq1_jKI",
        "outputId": "6d53c726-0428-4fe0-a263-e6a94c1c9564"
      },
      "execution_count": null,
      "outputs": [
        {
          "output_type": "stream",
          "name": "stdout",
          "text": [
            "[[181.   88.4  35. ]\n",
            " [184.   91.7  31. ]\n",
            " [183.   90.5  29. ]\n",
            " [188.   85.2  30. ]\n",
            " [189.   87.3  33. ]]\n",
            "(5, 3)\n"
          ]
        }
      ]
    },
    {
      "cell_type": "markdown",
      "source": [
        "Subsetting & Slicing"
      ],
      "metadata": {
        "id": "H5k5WZwWBR4Z"
      }
    },
    {
      "cell_type": "markdown",
      "source": [
        "Print out the 4th row of np_H_W_A\n",
        "\n"
      ],
      "metadata": {
        "id": "AuAmy0BVBeyN"
      }
    },
    {
      "cell_type": "code",
      "source": [
        "print(np_H_W_A[3,:])"
      ],
      "metadata": {
        "colab": {
          "base_uri": "https://localhost:8080/"
        },
        "id": "G5j8VL82BAnC",
        "outputId": "3fc2eea1-0f1e-4e46-9ed8-8a247a6e557c"
      },
      "execution_count": null,
      "outputs": [
        {
          "output_type": "stream",
          "name": "stdout",
          "text": [
            "[188.   85.2  30. ]\n"
          ]
        }
      ]
    },
    {
      "cell_type": "markdown",
      "source": [
        "Print the entire second column of np_H_W_A : **Weight**"
      ],
      "metadata": {
        "id": "7pX9f73EDWjM"
      }
    },
    {
      "cell_type": "code",
      "source": [
        "print(np_H_W_A[:,1])"
      ],
      "metadata": {
        "colab": {
          "base_uri": "https://localhost:8080/"
        },
        "id": "ODDM4DodDnnc",
        "outputId": "6cb05679-5053-4fde-fa5f-d8fa00dbbaf5"
      },
      "execution_count": null,
      "outputs": [
        {
          "output_type": "stream",
          "name": "stdout",
          "text": [
            "[88.4 91.7 90.5 85.2 87.3]\n"
          ]
        }
      ]
    },
    {
      "cell_type": "markdown",
      "source": [
        "Print out height of 2th person"
      ],
      "metadata": {
        "id": "2uS3kPzvDoM1"
      }
    },
    {
      "cell_type": "code",
      "source": [
        "print(np_H_W_A[1,0])"
      ],
      "metadata": {
        "colab": {
          "base_uri": "https://localhost:8080/"
        },
        "id": "imMK-GkQDy7M",
        "outputId": "08b995df-03dd-48a3-e9d5-d3690753d9ed"
      },
      "execution_count": null,
      "outputs": [
        {
          "output_type": "stream",
          "name": "stdout",
          "text": [
            "184.0\n"
          ]
        }
      ]
    },
    {
      "cell_type": "markdown",
      "source": [
        "Print out weight & age of 4th & 5th person"
      ],
      "metadata": {
        "id": "qAnvsME-EoH7"
      }
    },
    {
      "cell_type": "code",
      "source": [
        "print(np_H_W_A[3:,1:])"
      ],
      "metadata": {
        "colab": {
          "base_uri": "https://localhost:8080/"
        },
        "id": "R9kfck-uEwY3",
        "outputId": "d6accf2b-b643-4d92-d924-ebfdb1d2c3d4"
      },
      "execution_count": null,
      "outputs": [
        {
          "output_type": "stream",
          "name": "stdout",
          "text": [
            "[[85.2 30. ]\n",
            " [87.3 33. ]]\n"
          ]
        }
      ]
    },
    {
      "cell_type": "markdown",
      "source": [
        "Mean, Median, Standerd deviation"
      ],
      "metadata": {
        "id": "6zSKvcjDJrtE"
      }
    },
    {
      "cell_type": "markdown",
      "source": [
        "Print mean height"
      ],
      "metadata": {
        "id": "Ntb723ECJ3IS"
      }
    },
    {
      "cell_type": "code",
      "source": [
        "print(np.mean(np_H_W_A[:,0]))"
      ],
      "metadata": {
        "colab": {
          "base_uri": "https://localhost:8080/"
        },
        "id": "jOg_KZ1LJx2M",
        "outputId": "a8e40bc6-2aa2-4f25-81b5-a4f4962672c8"
      },
      "execution_count": null,
      "outputs": [
        {
          "output_type": "stream",
          "name": "stdout",
          "text": [
            "185.0\n"
          ]
        }
      ]
    },
    {
      "cell_type": "markdown",
      "source": [
        "Print median of age"
      ],
      "metadata": {
        "id": "WLeaWLRlKD_0"
      }
    },
    {
      "cell_type": "code",
      "source": [
        "print(np.median(np_H_W_A[:,2]))"
      ],
      "metadata": {
        "colab": {
          "base_uri": "https://localhost:8080/"
        },
        "id": "i30i9YVYKMPd",
        "outputId": "fc486a4c-e88f-4628-86d0-7de6fe5ea94b"
      },
      "execution_count": null,
      "outputs": [
        {
          "output_type": "stream",
          "name": "stdout",
          "text": [
            "31.0\n"
          ]
        }
      ]
    },
    {
      "cell_type": "markdown",
      "source": [
        "Print Standerd deviation of weight"
      ],
      "metadata": {
        "id": "nm-TZCxBKRHx"
      }
    },
    {
      "cell_type": "code",
      "source": [
        "print(np.std(np_H_W_A[:,1]))"
      ],
      "metadata": {
        "colab": {
          "base_uri": "https://localhost:8080/"
        },
        "id": "uHMvQQnpKZMD",
        "outputId": "9e70d536-c4ae-4ca8-99eb-2fc15c443fc0"
      },
      "execution_count": null,
      "outputs": [
        {
          "output_type": "stream",
          "name": "stdout",
          "text": [
            "2.3025203582161877\n"
          ]
        }
      ]
    },
    {
      "cell_type": "markdown",
      "source": [
        "Print mean of 2nd to 4th person's weight"
      ],
      "metadata": {
        "id": "MOTB2QBZKbAx"
      }
    },
    {
      "cell_type": "code",
      "source": [
        "print(np.mean(np_H_W_A[1:4,1]))"
      ],
      "metadata": {
        "colab": {
          "base_uri": "https://localhost:8080/"
        },
        "id": "nXwwx1Y5Kj3U",
        "outputId": "cd262a59-cb91-427a-b94a-fc9a16af84c3"
      },
      "execution_count": null,
      "outputs": [
        {
          "output_type": "stream",
          "name": "stdout",
          "text": [
            "89.13333333333333\n"
          ]
        }
      ]
    }
  ]
}