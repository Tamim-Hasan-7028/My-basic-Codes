{
  "nbformat": 4,
  "nbformat_minor": 0,
  "metadata": {
    "colab": {
      "provenance": []
    },
    "kernelspec": {
      "name": "python3",
      "display_name": "Python 3"
    },
    "language_info": {
      "name": "python"
    }
  },
  "cells": [
    {
      "cell_type": "markdown",
      "source": [
        "# **Define Function**\n",
        "\n",
        "We can easily value count from a data frame using function."
      ],
      "metadata": {
        "id": "s7Eld9Kyo_Ay"
      }
    },
    {
      "cell_type": "code",
      "execution_count": 42,
      "metadata": {
        "colab": {
          "base_uri": "https://localhost:8080/",
          "height": 363
        },
        "id": "S1IZTJgBhfPC",
        "outputId": "19ce5c7a-e869-462c-e9cb-501cf1a043ae"
      },
      "outputs": [
        {
          "output_type": "execute_result",
          "data": {
            "text/plain": [
              "      Country       Capital  Car_per_cap  Driving_left             Record date\n",
              "0     America  Wasington DC           80          True  11:05:12, 12 Aug, 2020\n",
              "1       China       Beijing           76          True  23:34:11, 30 Mar, 2021\n",
              "2  Bangladesh         Dhaka           14         False  02:56:45, 02 Jan, 2020\n",
              "3     England        London           73         False  00:01:00, 23 Jun, 2021\n",
              "4       India         Delhi           23         False  10:33:15, 03 Dec, 2020\n",
              "5    Pakistan     Islamabad           18         False  21:21:17, 15 Nov, 2020\n",
              "6       Japan         Tokio           56          True  09:55:25, 06 Nov, 2020\n",
              "7      Canada       Torento           82          True  12:19:27, 11 Feb, 2021\n",
              "8      Russia        Moscow           68          True  23:42:33, 23 Aug, 2021\n",
              "9      Franch         Paris           71          True  05:32:07, 18 May, 2021"
            ],
            "text/html": [
              "\n",
              "  <div id=\"df-0c5cab5a-6c83-44d1-af94-0764f069ec6a\">\n",
              "    <div class=\"colab-df-container\">\n",
              "      <div>\n",
              "<style scoped>\n",
              "    .dataframe tbody tr th:only-of-type {\n",
              "        vertical-align: middle;\n",
              "    }\n",
              "\n",
              "    .dataframe tbody tr th {\n",
              "        vertical-align: top;\n",
              "    }\n",
              "\n",
              "    .dataframe thead th {\n",
              "        text-align: right;\n",
              "    }\n",
              "</style>\n",
              "<table border=\"1\" class=\"dataframe\">\n",
              "  <thead>\n",
              "    <tr style=\"text-align: right;\">\n",
              "      <th></th>\n",
              "      <th>Country</th>\n",
              "      <th>Capital</th>\n",
              "      <th>Car_per_cap</th>\n",
              "      <th>Driving_left</th>\n",
              "      <th>Record date</th>\n",
              "    </tr>\n",
              "  </thead>\n",
              "  <tbody>\n",
              "    <tr>\n",
              "      <th>0</th>\n",
              "      <td>America</td>\n",
              "      <td>Wasington DC</td>\n",
              "      <td>80</td>\n",
              "      <td>True</td>\n",
              "      <td>11:05:12, 12 Aug, 2020</td>\n",
              "    </tr>\n",
              "    <tr>\n",
              "      <th>1</th>\n",
              "      <td>China</td>\n",
              "      <td>Beijing</td>\n",
              "      <td>76</td>\n",
              "      <td>True</td>\n",
              "      <td>23:34:11, 30 Mar, 2021</td>\n",
              "    </tr>\n",
              "    <tr>\n",
              "      <th>2</th>\n",
              "      <td>Bangladesh</td>\n",
              "      <td>Dhaka</td>\n",
              "      <td>14</td>\n",
              "      <td>False</td>\n",
              "      <td>02:56:45, 02 Jan, 2020</td>\n",
              "    </tr>\n",
              "    <tr>\n",
              "      <th>3</th>\n",
              "      <td>England</td>\n",
              "      <td>London</td>\n",
              "      <td>73</td>\n",
              "      <td>False</td>\n",
              "      <td>00:01:00, 23 Jun, 2021</td>\n",
              "    </tr>\n",
              "    <tr>\n",
              "      <th>4</th>\n",
              "      <td>India</td>\n",
              "      <td>Delhi</td>\n",
              "      <td>23</td>\n",
              "      <td>False</td>\n",
              "      <td>10:33:15, 03 Dec, 2020</td>\n",
              "    </tr>\n",
              "    <tr>\n",
              "      <th>5</th>\n",
              "      <td>Pakistan</td>\n",
              "      <td>Islamabad</td>\n",
              "      <td>18</td>\n",
              "      <td>False</td>\n",
              "      <td>21:21:17, 15 Nov, 2020</td>\n",
              "    </tr>\n",
              "    <tr>\n",
              "      <th>6</th>\n",
              "      <td>Japan</td>\n",
              "      <td>Tokio</td>\n",
              "      <td>56</td>\n",
              "      <td>True</td>\n",
              "      <td>09:55:25, 06 Nov, 2020</td>\n",
              "    </tr>\n",
              "    <tr>\n",
              "      <th>7</th>\n",
              "      <td>Canada</td>\n",
              "      <td>Torento</td>\n",
              "      <td>82</td>\n",
              "      <td>True</td>\n",
              "      <td>12:19:27, 11 Feb, 2021</td>\n",
              "    </tr>\n",
              "    <tr>\n",
              "      <th>8</th>\n",
              "      <td>Russia</td>\n",
              "      <td>Moscow</td>\n",
              "      <td>68</td>\n",
              "      <td>True</td>\n",
              "      <td>23:42:33, 23 Aug, 2021</td>\n",
              "    </tr>\n",
              "    <tr>\n",
              "      <th>9</th>\n",
              "      <td>Franch</td>\n",
              "      <td>Paris</td>\n",
              "      <td>71</td>\n",
              "      <td>True</td>\n",
              "      <td>05:32:07, 18 May, 2021</td>\n",
              "    </tr>\n",
              "  </tbody>\n",
              "</table>\n",
              "</div>\n",
              "      <button class=\"colab-df-convert\" onclick=\"convertToInteractive('df-0c5cab5a-6c83-44d1-af94-0764f069ec6a')\"\n",
              "              title=\"Convert this dataframe to an interactive table.\"\n",
              "              style=\"display:none;\">\n",
              "        \n",
              "  <svg xmlns=\"http://www.w3.org/2000/svg\" height=\"24px\"viewBox=\"0 0 24 24\"\n",
              "       width=\"24px\">\n",
              "    <path d=\"M0 0h24v24H0V0z\" fill=\"none\"/>\n",
              "    <path d=\"M18.56 5.44l.94 2.06.94-2.06 2.06-.94-2.06-.94-.94-2.06-.94 2.06-2.06.94zm-11 1L8.5 8.5l.94-2.06 2.06-.94-2.06-.94L8.5 2.5l-.94 2.06-2.06.94zm10 10l.94 2.06.94-2.06 2.06-.94-2.06-.94-.94-2.06-.94 2.06-2.06.94z\"/><path d=\"M17.41 7.96l-1.37-1.37c-.4-.4-.92-.59-1.43-.59-.52 0-1.04.2-1.43.59L10.3 9.45l-7.72 7.72c-.78.78-.78 2.05 0 2.83L4 21.41c.39.39.9.59 1.41.59.51 0 1.02-.2 1.41-.59l7.78-7.78 2.81-2.81c.8-.78.8-2.07 0-2.86zM5.41 20L4 18.59l7.72-7.72 1.47 1.35L5.41 20z\"/>\n",
              "  </svg>\n",
              "      </button>\n",
              "      \n",
              "  <style>\n",
              "    .colab-df-container {\n",
              "      display:flex;\n",
              "      flex-wrap:wrap;\n",
              "      gap: 12px;\n",
              "    }\n",
              "\n",
              "    .colab-df-convert {\n",
              "      background-color: #E8F0FE;\n",
              "      border: none;\n",
              "      border-radius: 50%;\n",
              "      cursor: pointer;\n",
              "      display: none;\n",
              "      fill: #1967D2;\n",
              "      height: 32px;\n",
              "      padding: 0 0 0 0;\n",
              "      width: 32px;\n",
              "    }\n",
              "\n",
              "    .colab-df-convert:hover {\n",
              "      background-color: #E2EBFA;\n",
              "      box-shadow: 0px 1px 2px rgba(60, 64, 67, 0.3), 0px 1px 3px 1px rgba(60, 64, 67, 0.15);\n",
              "      fill: #174EA6;\n",
              "    }\n",
              "\n",
              "    [theme=dark] .colab-df-convert {\n",
              "      background-color: #3B4455;\n",
              "      fill: #D2E3FC;\n",
              "    }\n",
              "\n",
              "    [theme=dark] .colab-df-convert:hover {\n",
              "      background-color: #434B5C;\n",
              "      box-shadow: 0px 1px 3px 1px rgba(0, 0, 0, 0.15);\n",
              "      filter: drop-shadow(0px 1px 2px rgba(0, 0, 0, 0.3));\n",
              "      fill: #FFFFFF;\n",
              "    }\n",
              "  </style>\n",
              "\n",
              "      <script>\n",
              "        const buttonEl =\n",
              "          document.querySelector('#df-0c5cab5a-6c83-44d1-af94-0764f069ec6a button.colab-df-convert');\n",
              "        buttonEl.style.display =\n",
              "          google.colab.kernel.accessAllowed ? 'block' : 'none';\n",
              "\n",
              "        async function convertToInteractive(key) {\n",
              "          const element = document.querySelector('#df-0c5cab5a-6c83-44d1-af94-0764f069ec6a');\n",
              "          const dataTable =\n",
              "            await google.colab.kernel.invokeFunction('convertToInteractive',\n",
              "                                                     [key], {});\n",
              "          if (!dataTable) return;\n",
              "\n",
              "          const docLinkHtml = 'Like what you see? Visit the ' +\n",
              "            '<a target=\"_blank\" href=https://colab.research.google.com/notebooks/data_table.ipynb>data table notebook</a>'\n",
              "            + ' to learn more about interactive tables.';\n",
              "          element.innerHTML = '';\n",
              "          dataTable['output_type'] = 'display_data';\n",
              "          await google.colab.output.renderOutput(dataTable, element);\n",
              "          const docLink = document.createElement('div');\n",
              "          docLink.innerHTML = docLinkHtml;\n",
              "          element.appendChild(docLink);\n",
              "        }\n",
              "      </script>\n",
              "    </div>\n",
              "  </div>\n",
              "  "
            ]
          },
          "metadata": {},
          "execution_count": 42
        }
      ],
      "source": [
        "import pandas as pd\n",
        "cars=pd.read_csv('/content/drive/MyDrive/DataCamp/Data/Cars.csv')\n",
        "cars"
      ]
    },
    {
      "cell_type": "markdown",
      "source": [
        "How many True and False are in this DataFrame?"
      ],
      "metadata": {
        "id": "fpCZNaDqpaG3"
      }
    },
    {
      "cell_type": "code",
      "source": [
        "def count(df,*args):  #*args for unlimited column input.\n",
        "  dic={}\n",
        "  try:\n",
        "    for col in args:\n",
        "      c=df[col]\n",
        "      for x in c:\n",
        "        if x in dic.keys():\n",
        "          dic[x]+=1\n",
        "        else:\n",
        "          dic[x]=1\n",
        "    return dic\n",
        "  except:\n",
        "    raise ValueError('The DataFrame does not have a '+col+' column.')\n",
        "    #or\n",
        "    print('The DataFrame does not have a '+col+' column.')"
      ],
      "metadata": {
        "id": "bxr_BYmCpubS"
      },
      "execution_count": 43,
      "outputs": []
    },
    {
      "cell_type": "code",
      "source": [
        "#calling function\n",
        "left_count=count(cars,'Driving_left')\n",
        "left_count"
      ],
      "metadata": {
        "colab": {
          "base_uri": "https://localhost:8080/"
        },
        "id": "CnAJ8ZsMqoFq",
        "outputId": "194ac3d0-5f23-4578-b040-d6ced4fbecd1"
      },
      "execution_count": 44,
      "outputs": [
        {
          "output_type": "execute_result",
          "data": {
            "text/plain": [
              "{True: 6, False: 4}"
            ]
          },
          "metadata": {},
          "execution_count": 44
        }
      ]
    },
    {
      "cell_type": "markdown",
      "source": [
        "# **List Comprehensions**"
      ],
      "metadata": {
        "id": "TPWqur8vZRRK"
      }
    },
    {
      "cell_type": "markdown",
      "source": [
        "Find the first letter from the list."
      ],
      "metadata": {
        "id": "66R1Dnjbor0H"
      }
    },
    {
      "cell_type": "code",
      "source": [
        "doctor = ['house', 'cuddy', 'chase', 'thirteen', 'wilson']"
      ],
      "metadata": {
        "id": "HlcWITO8KVDf"
      },
      "execution_count": 45,
      "outputs": []
    },
    {
      "cell_type": "code",
      "source": [
        "hcctw=[i[0] for i in doctor]\n",
        "hcctw"
      ],
      "metadata": {
        "colab": {
          "base_uri": "https://localhost:8080/"
        },
        "id": "5wbwmv-ZKhxp",
        "outputId": "a8e7e486-093e-4e11-e3ba-650a62da8832"
      },
      "execution_count": 46,
      "outputs": [
        {
          "output_type": "execute_result",
          "data": {
            "text/plain": [
              "['h', 'c', 'c', 't', 'w']"
            ]
          },
          "metadata": {},
          "execution_count": 46
        }
      ]
    },
    {
      "cell_type": "markdown",
      "source": [
        "Add 1 & square every element of the list."
      ],
      "metadata": {
        "id": "JGlHyxM2oymX"
      }
    },
    {
      "cell_type": "code",
      "source": [
        "nums = [12, 8, 21, 3, 16]"
      ],
      "metadata": {
        "id": "mylNE9rBZBsv"
      },
      "execution_count": 47,
      "outputs": []
    },
    {
      "cell_type": "code",
      "source": [
        "new_nums=[i+1 for i in nums]\n",
        "new_nums"
      ],
      "metadata": {
        "colab": {
          "base_uri": "https://localhost:8080/"
        },
        "id": "kRaQ-56iZGYX",
        "outputId": "2f3724cf-c8a1-4e96-9b60-2c0f812d7a7b"
      },
      "execution_count": 48,
      "outputs": [
        {
          "output_type": "execute_result",
          "data": {
            "text/plain": [
              "[13, 9, 22, 4, 17]"
            ]
          },
          "metadata": {},
          "execution_count": 48
        }
      ]
    },
    {
      "cell_type": "code",
      "source": [
        "square=[i**2 for i in new_nums]\n",
        "square"
      ],
      "metadata": {
        "colab": {
          "base_uri": "https://localhost:8080/"
        },
        "id": "WV--3N8iaB_Z",
        "outputId": "44962a9e-9ea1-4508-b740-e0405297df8a"
      },
      "execution_count": 49,
      "outputs": [
        {
          "output_type": "execute_result",
          "data": {
            "text/plain": [
              "[169, 81, 484, 16, 289]"
            ]
          },
          "metadata": {},
          "execution_count": 49
        }
      ]
    },
    {
      "cell_type": "markdown",
      "source": [
        "# **Nested list comprehensions**"
      ],
      "metadata": {
        "id": "qHlZONfpbPh4"
      }
    },
    {
      "cell_type": "markdown",
      "source": [
        "Create a 5 x 5 matrix using a list of lists"
      ],
      "metadata": {
        "id": "BE3kZyFXalB9"
      }
    },
    {
      "cell_type": "code",
      "source": [
        "m=[[col for col in range(0,5)] for row in range(0,5)]\n",
        "m"
      ],
      "metadata": {
        "colab": {
          "base_uri": "https://localhost:8080/"
        },
        "id": "e1wt_sY4alyQ",
        "outputId": "3a967e9e-0dc5-46f0-f686-ec1f400f244e"
      },
      "execution_count": 50,
      "outputs": [
        {
          "output_type": "execute_result",
          "data": {
            "text/plain": [
              "[[0, 1, 2, 3, 4],\n",
              " [0, 1, 2, 3, 4],\n",
              " [0, 1, 2, 3, 4],\n",
              " [0, 1, 2, 3, 4],\n",
              " [0, 1, 2, 3, 4]]"
            ]
          },
          "metadata": {},
          "execution_count": 50
        }
      ]
    },
    {
      "cell_type": "code",
      "source": [
        "for row in m:\n",
        "  print(row)"
      ],
      "metadata": {
        "colab": {
          "base_uri": "https://localhost:8080/"
        },
        "id": "W12G2-XMq0Qc",
        "outputId": "7f037609-028a-4598-a2be-fb6b59b3a700"
      },
      "execution_count": 58,
      "outputs": [
        {
          "output_type": "stream",
          "name": "stdout",
          "text": [
            "[0, 1, 2, 3, 4]\n",
            "[0, 1, 2, 3, 4]\n",
            "[0, 1, 2, 3, 4]\n",
            "[0, 1, 2, 3, 4]\n",
            "[0, 1, 2, 3, 4]\n"
          ]
        }
      ]
    },
    {
      "cell_type": "markdown",
      "source": [
        "# **Using conditionals in comprehensions**"
      ],
      "metadata": {
        "id": "z-ZuKxyJbNC2"
      }
    },
    {
      "cell_type": "code",
      "source": [
        "fellowship = ['frodo', 'samwise', 'merry', 'aragorn', 'legolas', 'boromir', 'gimli']"
      ],
      "metadata": {
        "id": "03w9fOxBbUug"
      },
      "execution_count": 51,
      "outputs": []
    },
    {
      "cell_type": "markdown",
      "source": [
        "only want strings with 7 characters or more."
      ],
      "metadata": {
        "id": "5Y4uvJxYbo_q"
      }
    },
    {
      "cell_type": "code",
      "source": [
        "seven_fellow=[i for i in fellowship if len(i)>=7]\n",
        "seven_fellow"
      ],
      "metadata": {
        "colab": {
          "base_uri": "https://localhost:8080/"
        },
        "id": "UiEt5NZQbon_",
        "outputId": "770d93ae-2c43-44bd-b81b-41e62a49a978"
      },
      "execution_count": 52,
      "outputs": [
        {
          "output_type": "execute_result",
          "data": {
            "text/plain": [
              "['samwise', 'aragorn', 'legolas', 'boromir']"
            ]
          },
          "metadata": {},
          "execution_count": 52
        }
      ]
    },
    {
      "cell_type": "markdown",
      "source": [
        "create a list that keeps members of fellowship with 7 or more characters and replaces others with an empty string. "
      ],
      "metadata": {
        "id": "tY_l3FQUcKT6"
      }
    },
    {
      "cell_type": "code",
      "source": [
        "seven=[i if len(i)>=7 else ' ' for i in fellowship]\n",
        "seven"
      ],
      "metadata": {
        "colab": {
          "base_uri": "https://localhost:8080/"
        },
        "id": "iFbgX_DdcMEp",
        "outputId": "5750032b-3e19-4fc8-c7d9-041ca17f656c"
      },
      "execution_count": 53,
      "outputs": [
        {
          "output_type": "execute_result",
          "data": {
            "text/plain": [
              "[' ', 'samwise', ' ', 'aragorn', 'legolas', 'boromir', ' ']"
            ]
          },
          "metadata": {},
          "execution_count": 53
        }
      ]
    },
    {
      "cell_type": "markdown",
      "source": [
        "# **Dict comprehensions**\n",
        "\n",
        "the main difference between a list comprehension and a dict comprehension is the use of curly braces {} instead of [ ]. Additionally, members of the dictionary are created using a colon :, as in key : value."
      ],
      "metadata": {
        "id": "oGUloX80fvJh"
      }
    },
    {
      "cell_type": "markdown",
      "source": [
        "You are given a list of strings fellowship and, using a dict comprehension, create a dictionary with the members of the list as the keys and the length of each string as the corresponding values."
      ],
      "metadata": {
        "id": "vZUAbsligC7w"
      }
    },
    {
      "cell_type": "code",
      "source": [
        "dic_fellow={i:len(i) for i in fellowship}\n",
        "dic_fellow"
      ],
      "metadata": {
        "colab": {
          "base_uri": "https://localhost:8080/"
        },
        "id": "ijvjJv7ifwxP",
        "outputId": "49f884c8-94a7-4d48-801a-8d18920b3a52"
      },
      "execution_count": 54,
      "outputs": [
        {
          "output_type": "execute_result",
          "data": {
            "text/plain": [
              "{'frodo': 5,\n",
              " 'samwise': 7,\n",
              " 'merry': 5,\n",
              " 'aragorn': 7,\n",
              " 'legolas': 7,\n",
              " 'boromir': 7,\n",
              " 'gimli': 5}"
            ]
          },
          "metadata": {},
          "execution_count": 54
        }
      ]
    },
    {
      "cell_type": "markdown",
      "source": [
        "# **List comprehensions for time-stamped data**"
      ],
      "metadata": {
        "id": "AlFqrmOUmGz6"
      }
    },
    {
      "cell_type": "code",
      "source": [
        "date=cars['Record date']\n",
        "date"
      ],
      "metadata": {
        "colab": {
          "base_uri": "https://localhost:8080/"
        },
        "id": "_QlazAk5mIrh",
        "outputId": "4dc442d6-9653-4ae0-c956-e91a0375a6a1"
      },
      "execution_count": 55,
      "outputs": [
        {
          "output_type": "execute_result",
          "data": {
            "text/plain": [
              "0    11:05:12, 12 Aug, 2020\n",
              "1    23:34:11, 30 Mar, 2021\n",
              "2    02:56:45, 02 Jan, 2020\n",
              "3    00:01:00, 23 Jun, 2021\n",
              "4    10:33:15, 03 Dec, 2020\n",
              "5    21:21:17, 15 Nov, 2020\n",
              "6    09:55:25, 06 Nov, 2020\n",
              "7    12:19:27, 11 Feb, 2021\n",
              "8    23:42:33, 23 Aug, 2021\n",
              "9    05:32:07, 18 May, 2021\n",
              "Name: Record date, dtype: object"
            ]
          },
          "metadata": {},
          "execution_count": 55
        }
      ]
    },
    {
      "cell_type": "markdown",
      "source": [
        "Create a list comprehension that extracts the time from each row in cars. Each row is a string that represents a timestamp, and you will access the 1st to 8th characters in the string to extract the time. Remember that Python uses 0-based indexing!"
      ],
      "metadata": {
        "id": "Ek5JJhrcmnv8"
      }
    },
    {
      "cell_type": "code",
      "source": [
        "time=[i[0:8] for i in date]\n",
        "time"
      ],
      "metadata": {
        "colab": {
          "base_uri": "https://localhost:8080/"
        },
        "id": "fAh7wrFDmzTn",
        "outputId": "49d707d1-8d02-4b76-dc0a-ab18abcfe851"
      },
      "execution_count": 56,
      "outputs": [
        {
          "output_type": "execute_result",
          "data": {
            "text/plain": [
              "['11:05:12',\n",
              " '23:34:11',\n",
              " '02:56:45',\n",
              " '00:01:00',\n",
              " '10:33:15',\n",
              " '21:21:17',\n",
              " '09:55:25',\n",
              " '12:19:27',\n",
              " '23:42:33',\n",
              " '05:32:07']"
            ]
          },
          "metadata": {},
          "execution_count": 56
        }
      ]
    },
    {
      "cell_type": "markdown",
      "source": [
        "Find the time for only 2021."
      ],
      "metadata": {
        "id": "oeQ0SvgHnZ6A"
      }
    },
    {
      "cell_type": "code",
      "source": [
        "time_21=[i[0:8] for i in date if i[18:22]=='2021']\n",
        "time_21"
      ],
      "metadata": {
        "colab": {
          "base_uri": "https://localhost:8080/"
        },
        "id": "rMZ1usAkngnF",
        "outputId": "7d73a3de-dc5c-4617-cf13-b35d840a5ddc"
      },
      "execution_count": 57,
      "outputs": [
        {
          "output_type": "execute_result",
          "data": {
            "text/plain": [
              "['23:34:11', '00:01:00', '12:19:27', '23:42:33', '05:32:07']"
            ]
          },
          "metadata": {},
          "execution_count": 57
        }
      ]
    },
    {
      "cell_type": "markdown",
      "source": [
        "So, we can find the exact character from a column's row by using list comprehension."
      ],
      "metadata": {
        "id": "k1qJf8S9rIs9"
      }
    }
  ]
}