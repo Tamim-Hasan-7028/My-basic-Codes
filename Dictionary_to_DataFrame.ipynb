{
  "nbformat": 4,
  "nbformat_minor": 0,
  "metadata": {
    "colab": {
      "provenance": [],
      "collapsed_sections": []
    },
    "kernelspec": {
      "name": "python3",
      "display_name": "Python 3"
    },
    "language_info": {
      "name": "python"
    }
  },
  "cells": [
    {
      "cell_type": "markdown",
      "source": [
        "Creating dictionaries from list."
      ],
      "metadata": {
        "id": "E8d48Rh5ofxt"
      }
    },
    {
      "cell_type": "code",
      "source": [
        "countries = ['spain', 'france', 'germany', 'norway']\n",
        "capitals = ['madrid', 'paris', 'berlin', 'oslo']\n",
        "\n",
        "europe={'spain':'madrid','france':'paris','germany':'berlin','norway':'oslo'}\n",
        "print(europe)\n",
        "print(type(europe))"
      ],
      "metadata": {
        "colab": {
          "base_uri": "https://localhost:8080/"
        },
        "id": "ht_QSCCAokn9",
        "outputId": "3006b2a9-f0e8-4890-c4a7-3f89b80b97bc"
      },
      "execution_count": 67,
      "outputs": [
        {
          "output_type": "stream",
          "name": "stdout",
          "text": [
            "{'spain': 'madrid', 'france': 'paris', 'germany': 'berlin', 'norway': 'oslo'}\n",
            "<class 'dict'>\n"
          ]
        }
      ]
    },
    {
      "cell_type": "markdown",
      "source": [
        "Finding keys & values with .keys() & .values() from dictionary."
      ],
      "metadata": {
        "id": "mjDcAhVepd4j"
      }
    },
    {
      "cell_type": "code",
      "source": [
        "print(europe.keys())\n",
        "print(europe.values())"
      ],
      "metadata": {
        "colab": {
          "base_uri": "https://localhost:8080/"
        },
        "id": "hERJjyOepsUu",
        "outputId": "c6185a75-7362-44ae-f539-8c101a3a1cdc"
      },
      "execution_count": 68,
      "outputs": [
        {
          "output_type": "stream",
          "name": "stdout",
          "text": [
            "dict_keys(['spain', 'france', 'germany', 'norway'])\n",
            "dict_values(['madrid', 'paris', 'berlin', 'oslo'])\n"
          ]
        }
      ]
    },
    {
      "cell_type": "markdown",
      "source": [
        "Finding a value using key from dictionary."
      ],
      "metadata": {
        "id": "WI3H1S0Mq-EE"
      }
    },
    {
      "cell_type": "code",
      "source": [
        "print('spain capital: '+europe['spain'])\n",
        "print('france capital: '+europe['france'])"
      ],
      "metadata": {
        "colab": {
          "base_uri": "https://localhost:8080/"
        },
        "id": "MnJA1Ug6rEHz",
        "outputId": "e4fb23cc-09a7-49a5-cda4-b3acf9b35c60"
      },
      "execution_count": 69,
      "outputs": [
        {
          "output_type": "stream",
          "name": "stdout",
          "text": [
            "spain capital: madrid\n",
            "france capital: paris\n"
          ]
        }
      ]
    },
    {
      "cell_type": "markdown",
      "source": [
        "Adding new key & value in dictionary."
      ],
      "metadata": {
        "id": "NKi0UtnVsb_u"
      }
    },
    {
      "cell_type": "code",
      "source": [
        "europe['italy']='roMa'\n",
        "europe['poland']='warsaw'\n",
        "print(europe)"
      ],
      "metadata": {
        "colab": {
          "base_uri": "https://localhost:8080/"
        },
        "id": "43v463_PtG8F",
        "outputId": "aa9d73c7-5b4e-4845-ce9a-e19bb9c5927e"
      },
      "execution_count": 70,
      "outputs": [
        {
          "output_type": "stream",
          "name": "stdout",
          "text": [
            "{'spain': 'madrid', 'france': 'paris', 'germany': 'berlin', 'norway': 'oslo', 'italy': 'roMa', 'poland': 'warsaw'}\n"
          ]
        }
      ]
    },
    {
      "cell_type": "markdown",
      "source": [
        "Replacing key & value with existing key & value."
      ],
      "metadata": {
        "id": "lDt0OKnptr_6"
      }
    },
    {
      "cell_type": "code",
      "source": [
        "europe['italy']='rome'\n",
        "print(europe)"
      ],
      "metadata": {
        "colab": {
          "base_uri": "https://localhost:8080/"
        },
        "id": "fPNSEZWXuJje",
        "outputId": "8d545ef0-ed23-4346-8dfb-5b4e6a3b9d24"
      },
      "execution_count": 71,
      "outputs": [
        {
          "output_type": "stream",
          "name": "stdout",
          "text": [
            "{'spain': 'madrid', 'france': 'paris', 'germany': 'berlin', 'norway': 'oslo', 'italy': 'rome', 'poland': 'warsaw'}\n"
          ]
        }
      ]
    },
    {
      "cell_type": "markdown",
      "source": [
        "Removing key from Dictionary."
      ],
      "metadata": {
        "id": "uC8UsPOZuSSx"
      }
    },
    {
      "cell_type": "code",
      "source": [
        "del(europe['spain'])\n",
        "print(europe)"
      ],
      "metadata": {
        "colab": {
          "base_uri": "https://localhost:8080/"
        },
        "id": "6j5IRaR-uXsd",
        "outputId": "f5975047-0a90-435f-d197-b02e565e3c51"
      },
      "execution_count": 72,
      "outputs": [
        {
          "output_type": "stream",
          "name": "stdout",
          "text": [
            "{'france': 'paris', 'germany': 'berlin', 'norway': 'oslo', 'italy': 'rome', 'poland': 'warsaw'}\n"
          ]
        }
      ]
    },
    {
      "cell_type": "markdown",
      "source": [
        "Nested Dictionary"
      ],
      "metadata": {
        "id": "m2Y2Dle6vhhn"
      }
    },
    {
      "cell_type": "code",
      "source": [
        "Asia={'Bangladesh':{'Capital':'Dhaka','Currency':'Taka'},\n",
        "      'India':{'Capital':'Delhi','Currency':'Rupi'},\n",
        "      'Pakistan':{'Capital':'Islamabad','Currency':'Rupi'},\n",
        "      'China':{'Capital':'Beijing','Currency':'Renminbi'},\n",
        "      'Japan':{'Capital':'Tokio','Currency':'Yen'}}\n",
        "print(Asia)"
      ],
      "metadata": {
        "colab": {
          "base_uri": "https://localhost:8080/"
        },
        "id": "CFhl-LfPvs6r",
        "outputId": "9f1837ae-1e34-4800-dc2a-e1788144d925"
      },
      "execution_count": 73,
      "outputs": [
        {
          "output_type": "stream",
          "name": "stdout",
          "text": [
            "{'Bangladesh': {'Capital': 'Dhaka', 'Currency': 'Taka'}, 'India': {'Capital': 'Delhi', 'Currency': 'Rupi'}, 'Pakistan': {'Capital': 'Islamabad', 'Currency': 'Rupi'}, 'China': {'Capital': 'Beijing', 'Currency': 'Renminbi'}, 'Japan': {'Capital': 'Tokio', 'Currency': 'Yen'}}\n"
          ]
        }
      ]
    },
    {
      "cell_type": "markdown",
      "source": [
        "Subsetting.\n",
        "\n",
        "Print out the currency of Japan"
      ],
      "metadata": {
        "id": "Szdp9tnvx7EC"
      }
    },
    {
      "cell_type": "code",
      "source": [
        "print(Asia['Japan']['Currency'])"
      ],
      "metadata": {
        "colab": {
          "base_uri": "https://localhost:8080/"
        },
        "id": "vafNjbJmyCQ0",
        "outputId": "eaa860c4-ce7b-4c49-ebcc-444df1d37b90"
      },
      "execution_count": 74,
      "outputs": [
        {
          "output_type": "stream",
          "name": "stdout",
          "text": [
            "Yen\n"
          ]
        }
      ]
    },
    {
      "cell_type": "markdown",
      "source": [
        "Print out the Capital of Bangladesh"
      ],
      "metadata": {
        "id": "4ZMc7P3hyLDt"
      }
    },
    {
      "cell_type": "code",
      "source": [
        "print(Asia['Bangladesh']['Capital'])"
      ],
      "metadata": {
        "colab": {
          "base_uri": "https://localhost:8080/"
        },
        "id": "xtXuet4OyWXq",
        "outputId": "c1755f4c-d2be-459b-e875-51361a0d7f92"
      },
      "execution_count": 75,
      "outputs": [
        {
          "output_type": "stream",
          "name": "stdout",
          "text": [
            "Dhaka\n"
          ]
        }
      ]
    },
    {
      "cell_type": "markdown",
      "source": [
        "Addition in Nested dict"
      ],
      "metadata": {
        "id": "tDZvoByQyghp"
      }
    },
    {
      "cell_type": "code",
      "source": [
        "Asia['Bahrain']={'Capital':'Manama','Currency':'Dinar'}\n",
        "print(Asia)"
      ],
      "metadata": {
        "colab": {
          "base_uri": "https://localhost:8080/"
        },
        "id": "pIJWuav_ymKl",
        "outputId": "a38f6ff4-fd6b-4f74-ce5c-e1f4201b471c"
      },
      "execution_count": 76,
      "outputs": [
        {
          "output_type": "stream",
          "name": "stdout",
          "text": [
            "{'Bangladesh': {'Capital': 'Dhaka', 'Currency': 'Taka'}, 'India': {'Capital': 'Delhi', 'Currency': 'Rupi'}, 'Pakistan': {'Capital': 'Islamabad', 'Currency': 'Rupi'}, 'China': {'Capital': 'Beijing', 'Currency': 'Renminbi'}, 'Japan': {'Capital': 'Tokio', 'Currency': 'Yen'}, 'Bahrain': {'Capital': 'Manama', 'Currency': 'Dinar'}}\n"
          ]
        }
      ]
    },
    {
      "cell_type": "markdown",
      "source": [
        "Creating DataFrame from Dictionary"
      ],
      "metadata": {
        "id": "r2O5o598zVzK"
      }
    },
    {
      "cell_type": "code",
      "source": [
        "import pandas as pd\n",
        "AsiaMap=pd.DataFrame(Asia)\n",
        "print(AsiaMap)"
      ],
      "metadata": {
        "colab": {
          "base_uri": "https://localhost:8080/"
        },
        "id": "c0otFFDqzbpG",
        "outputId": "7d4c7901-df81-4bd2-faec-9a5661183119"
      },
      "execution_count": 77,
      "outputs": [
        {
          "output_type": "stream",
          "name": "stdout",
          "text": [
            "         Bangladesh  India   Pakistan     China  Japan Bahrain\n",
            "Capital       Dhaka  Delhi  Islamabad   Beijing  Tokio  Manama\n",
            "Currency       Taka   Rupi       Rupi  Renminbi    Yen   Dinar\n"
          ]
        }
      ]
    },
    {
      "cell_type": "code",
      "source": [
        "Country=['Bangladesh','India','Pakistan','China','Japan','Bahrain']\n",
        "Capital=['Dhaka','Delhi','Islamabad','Beijing','Tokio','Manama']\n",
        "Currency=['Taka','Indian Rupee','Pakistani Rupee','Renminbi','Yen','Dinar']\n",
        "\n",
        "asia={'Country':Country,'Capital':Capital,'Currency':Currency}\n",
        "InfoAsia=pd.DataFrame(asia)\n",
        "print(InfoAsia)"
      ],
      "metadata": {
        "colab": {
          "base_uri": "https://localhost:8080/"
        },
        "id": "SBsbbxj1z818",
        "outputId": "fbb8be2a-01e1-49ea-9cef-d897e04321c7"
      },
      "execution_count": 78,
      "outputs": [
        {
          "output_type": "stream",
          "name": "stdout",
          "text": [
            "      Country    Capital         Currency\n",
            "0  Bangladesh      Dhaka             Taka\n",
            "1       India      Delhi     Indian Rupee\n",
            "2    Pakistan  Islamabad  Pakistani Rupee\n",
            "3       China    Beijing         Renminbi\n",
            "4       Japan      Tokio              Yen\n",
            "5     Bahrain     Manama            Dinar\n"
          ]
        }
      ]
    },
    {
      "cell_type": "markdown",
      "source": [
        "Adding Index label in DataFrame\n",
        "\n"
      ],
      "metadata": {
        "id": "sRZ8KaRf1iU7"
      }
    },
    {
      "cell_type": "code",
      "source": [
        "label=['BN','IN','PK','CN','JP','BR']\n",
        "InfoAsia.index=label\n",
        "print(InfoAsia)"
      ],
      "metadata": {
        "colab": {
          "base_uri": "https://localhost:8080/"
        },
        "id": "1XX3RI6D1lqG",
        "outputId": "cff5f74d-0da8-41d3-f9a1-dfc6cdc3e313"
      },
      "execution_count": 79,
      "outputs": [
        {
          "output_type": "stream",
          "name": "stdout",
          "text": [
            "       Country    Capital         Currency\n",
            "BN  Bangladesh      Dhaka             Taka\n",
            "IN       India      Delhi     Indian Rupee\n",
            "PK    Pakistan  Islamabad  Pakistani Rupee\n",
            "CN       China    Beijing         Renminbi\n",
            "JP       Japan      Tokio              Yen\n",
            "BR     Bahrain     Manama            Dinar\n"
          ]
        }
      ]
    },
    {
      "cell_type": "markdown",
      "source": [
        "CSV to DataFrame"
      ],
      "metadata": {
        "id": "KyVw8Sn02yWD"
      }
    },
    {
      "cell_type": "code",
      "source": [
        "driving=pd.read_csv('/Cars.csv')\n",
        "print(driving)"
      ],
      "metadata": {
        "colab": {
          "base_uri": "https://localhost:8080/"
        },
        "id": "5WEad1J_9bV9",
        "outputId": "7f041a63-0505-4695-df30-2b9f07a59596"
      },
      "execution_count": 80,
      "outputs": [
        {
          "output_type": "stream",
          "name": "stdout",
          "text": [
            "      Country       Capital  Car_per_cap  Driving_left\n",
            "0     America  Wasington DC           80          True\n",
            "1       China       Beijing           76          True\n",
            "2  Bangladesh         Dhaka           14         False\n",
            "3     England        London           73         False\n",
            "4       India         Delhi           23         False\n",
            "5    Pakistan     Islamabad           18         False\n",
            "6       Japan         Tokio           56          True\n",
            "7      Canana       Torento           82          True\n",
            "8      Russia        Moscow           68          True\n",
            "9      Franch         Paris           71          True\n"
          ]
        }
      ]
    },
    {
      "cell_type": "code",
      "source": [
        "#x=['AM','CH','BN','EN','IN','PK','JP','CN','RS','FN']\n",
        "#driving.index=x\n",
        "#print(driving)"
      ],
      "metadata": {
        "id": "WJQx8F6t_MzF"
      },
      "execution_count": 81,
      "outputs": []
    },
    {
      "cell_type": "markdown",
      "source": [
        "Pandas series & DataFrame"
      ],
      "metadata": {
        "id": "lvUbfl8t_0nd"
      }
    },
    {
      "cell_type": "code",
      "source": [
        "print(driving['Country'])\n",
        "print(type(driving['Country']))"
      ],
      "metadata": {
        "colab": {
          "base_uri": "https://localhost:8080/"
        },
        "id": "mfBLpMCD_8VS",
        "outputId": "8f6d9e12-8a29-4caa-9705-000db4e0af57"
      },
      "execution_count": 82,
      "outputs": [
        {
          "output_type": "stream",
          "name": "stdout",
          "text": [
            "0       America\n",
            "1         China\n",
            "2    Bangladesh\n",
            "3       England\n",
            "4         India\n",
            "5      Pakistan\n",
            "6         Japan\n",
            "7        Canana\n",
            "8        Russia\n",
            "9        Franch\n",
            "Name: Country, dtype: object\n",
            "<class 'pandas.core.series.Series'>\n"
          ]
        }
      ]
    },
    {
      "cell_type": "code",
      "source": [
        "print(driving[['Country']])\n",
        "print(type(driving[['Country']]))"
      ],
      "metadata": {
        "colab": {
          "base_uri": "https://localhost:8080/"
        },
        "id": "fwe4VQdzAPWM",
        "outputId": "52103f01-3775-47b2-8f04-5738ddc40444"
      },
      "execution_count": 83,
      "outputs": [
        {
          "output_type": "stream",
          "name": "stdout",
          "text": [
            "      Country\n",
            "0     America\n",
            "1       China\n",
            "2  Bangladesh\n",
            "3     England\n",
            "4       India\n",
            "5    Pakistan\n",
            "6       Japan\n",
            "7      Canana\n",
            "8      Russia\n",
            "9      Franch\n",
            "<class 'pandas.core.frame.DataFrame'>\n"
          ]
        }
      ]
    },
    {
      "cell_type": "markdown",
      "source": [
        "print out capital & driving left column (Subsetting)\n",
        "\n",
        "---\n",
        "\n"
      ],
      "metadata": {
        "id": "2EAANxlyAbJv"
      }
    },
    {
      "cell_type": "code",
      "source": [
        "print(driving[['Capital','Driving_left']])"
      ],
      "metadata": {
        "colab": {
          "base_uri": "https://localhost:8080/"
        },
        "id": "lvjS4ytVAwS6",
        "outputId": "d9f713b1-c614-47bb-df10-ad925e899662"
      },
      "execution_count": 84,
      "outputs": [
        {
          "output_type": "stream",
          "name": "stdout",
          "text": [
            "        Capital  Driving_left\n",
            "0  Wasington DC          True\n",
            "1       Beijing          True\n",
            "2         Dhaka         False\n",
            "3        London         False\n",
            "4         Delhi         False\n",
            "5     Islamabad         False\n",
            "6         Tokio          True\n",
            "7       Torento          True\n",
            "8        Moscow          True\n",
            "9         Paris          True\n"
          ]
        }
      ]
    },
    {
      "cell_type": "markdown",
      "source": [
        "Slicing"
      ],
      "metadata": {
        "id": "Yj-6iWCiBGzr"
      }
    },
    {
      "cell_type": "markdown",
      "source": [
        "print out first 3 observations"
      ],
      "metadata": {
        "id": "kXDX8CO4BUaO"
      }
    },
    {
      "cell_type": "code",
      "source": [
        "print(driving[:3])"
      ],
      "metadata": {
        "colab": {
          "base_uri": "https://localhost:8080/"
        },
        "id": "wMe00TIkBNa1",
        "outputId": "3f943ce1-95fb-4fb3-f9da-3afccaedb590"
      },
      "execution_count": 85,
      "outputs": [
        {
          "output_type": "stream",
          "name": "stdout",
          "text": [
            "      Country       Capital  Car_per_cap  Driving_left\n",
            "0     America  Wasington DC           80          True\n",
            "1       China       Beijing           76          True\n",
            "2  Bangladesh         Dhaka           14         False\n"
          ]
        }
      ]
    },
    {
      "cell_type": "markdown",
      "source": [
        "print out 4 to 7th observations"
      ],
      "metadata": {
        "id": "an3EG0dvBgo3"
      }
    },
    {
      "cell_type": "code",
      "source": [
        "print(driving[3:7])"
      ],
      "metadata": {
        "colab": {
          "base_uri": "https://localhost:8080/"
        },
        "id": "PqhPGfqFBlYf",
        "outputId": "38a039c1-5ca7-427b-f7b8-53941f90e4a6"
      },
      "execution_count": 86,
      "outputs": [
        {
          "output_type": "stream",
          "name": "stdout",
          "text": [
            "    Country    Capital  Car_per_cap  Driving_left\n",
            "3   England     London           73         False\n",
            "4     India      Delhi           23         False\n",
            "5  Pakistan  Islamabad           18         False\n",
            "6     Japan      Tokio           56          True\n"
          ]
        }
      ]
    },
    {
      "cell_type": "markdown",
      "source": [
        "loc(), iloc()"
      ],
      "metadata": {
        "id": "I3ln_grvCaom"
      }
    },
    {
      "cell_type": "markdown",
      "source": [
        "print info about England & Bangladesh"
      ],
      "metadata": {
        "id": "e89SH6uOCwYB"
      }
    },
    {
      "cell_type": "code",
      "source": [
        "#print(driving.loc[['EN','BN']])"
      ],
      "metadata": {
        "id": "lnOisTaHCdbY"
      },
      "execution_count": 87,
      "outputs": []
    },
    {
      "cell_type": "code",
      "source": [
        "print(driving.iloc[[2,3]])"
      ],
      "metadata": {
        "colab": {
          "base_uri": "https://localhost:8080/"
        },
        "id": "HVtrNf6HDJ14",
        "outputId": "76ad52c1-fd85-4571-e57c-5c87522352f3"
      },
      "execution_count": 88,
      "outputs": [
        {
          "output_type": "stream",
          "name": "stdout",
          "text": [
            "      Country Capital  Car_per_cap  Driving_left\n",
            "2  Bangladesh   Dhaka           14         False\n",
            "3     England  London           73         False\n"
          ]
        }
      ]
    },
    {
      "cell_type": "markdown",
      "source": [
        "print out capital & Driving_left of Bangladesh & Russia"
      ],
      "metadata": {
        "id": "qmUJmi9HDoP1"
      }
    },
    {
      "cell_type": "code",
      "source": [
        "#print(driving.loc[['BN','RS'],['Capital','Driving_left']])"
      ],
      "metadata": {
        "id": "XZLIveyLD46a"
      },
      "execution_count": 89,
      "outputs": []
    },
    {
      "cell_type": "code",
      "source": [
        "print(driving.iloc[[2,8],[1,3]])"
      ],
      "metadata": {
        "colab": {
          "base_uri": "https://localhost:8080/"
        },
        "id": "Dm3f-he6EOPg",
        "outputId": "4de4a3f9-04a0-4b84-9834-a7336d5977b6"
      },
      "execution_count": 90,
      "outputs": [
        {
          "output_type": "stream",
          "name": "stdout",
          "text": [
            "  Capital  Driving_left\n",
            "2   Dhaka         False\n",
            "8  Moscow          True\n"
          ]
        }
      ]
    },
    {
      "cell_type": "markdown",
      "source": [
        "print out car_per_cap & Country name of all country"
      ],
      "metadata": {
        "id": "qW11DTV7ElZq"
      }
    },
    {
      "cell_type": "code",
      "source": [
        "print(driving.iloc[:,[0,2]])"
      ],
      "metadata": {
        "colab": {
          "base_uri": "https://localhost:8080/"
        },
        "id": "UbmEe-OTEvpZ",
        "outputId": "e5d6c562-474b-4a3e-d68f-d6c2126a373b"
      },
      "execution_count": 91,
      "outputs": [
        {
          "output_type": "stream",
          "name": "stdout",
          "text": [
            "      Country  Car_per_cap\n",
            "0     America           80\n",
            "1       China           76\n",
            "2  Bangladesh           14\n",
            "3     England           73\n",
            "4       India           23\n",
            "5    Pakistan           18\n",
            "6       Japan           56\n",
            "7      Canana           82\n",
            "8      Russia           68\n",
            "9      Franch           71\n"
          ]
        }
      ]
    },
    {
      "cell_type": "markdown",
      "source": [
        "print out China to Russia's capital, car per cap and driving left info"
      ],
      "metadata": {
        "id": "fklCmlEgFBsA"
      }
    },
    {
      "cell_type": "code",
      "source": [
        "print(driving.iloc[[1,2,3,6,7,5],[1,3]])"
      ],
      "metadata": {
        "colab": {
          "base_uri": "https://localhost:8080/"
        },
        "id": "65iNnkg4FUd4",
        "outputId": "e2186634-d382-419d-abe4-6af68e76d267"
      },
      "execution_count": 92,
      "outputs": [
        {
          "output_type": "stream",
          "name": "stdout",
          "text": [
            "     Capital  Driving_left\n",
            "1    Beijing          True\n",
            "2      Dhaka         False\n",
            "3     London         False\n",
            "6      Tokio          True\n",
            "7    Torento          True\n",
            "5  Islamabad         False\n"
          ]
        }
      ]
    },
    {
      "cell_type": "markdown",
      "source": [
        "Filter observations from a DataFrame based on series.\n",
        "\n",
        "Now,\n",
        "\n",
        "we want to filter only true or false value from Driving_left column.\n",
        "\n",
        "'Drives_left' is a boolean column, so we have to extract it as a Series first and then use this boolean Series to select observations from 'driving'"
      ],
      "metadata": {
        "id": "svPk88YrpH7W"
      }
    },
    {
      "cell_type": "code",
      "source": [
        "series=driving.iloc[:,3]\n",
        "print(series)\n",
        "print(type(series))"
      ],
      "metadata": {
        "id": "MyN1lvExnUjW",
        "colab": {
          "base_uri": "https://localhost:8080/"
        },
        "outputId": "74feb0fc-62f7-47d7-ffee-25825e50c583"
      },
      "execution_count": 99,
      "outputs": [
        {
          "output_type": "stream",
          "name": "stdout",
          "text": [
            "0     True\n",
            "1     True\n",
            "2    False\n",
            "3    False\n",
            "4    False\n",
            "5    False\n",
            "6     True\n",
            "7     True\n",
            "8     True\n",
            "9     True\n",
            "Name: Driving_left, dtype: bool\n",
            "<class 'pandas.core.series.Series'>\n"
          ]
        }
      ]
    },
    {
      "cell_type": "code",
      "source": [
        "print(driving[series])   #here we filter only true value of Driving_left by default"
      ],
      "metadata": {
        "colab": {
          "base_uri": "https://localhost:8080/"
        },
        "id": "VxYn9Yw5AAu3",
        "outputId": "76ee5c3c-6ed7-406f-f921-431840965265"
      },
      "execution_count": 102,
      "outputs": [
        {
          "output_type": "stream",
          "name": "stdout",
          "text": [
            "   Country       Capital  Car_per_cap  Driving_left\n",
            "0  America  Wasington DC           80          True\n",
            "1    China       Beijing           76          True\n",
            "6    Japan         Tokio           56          True\n",
            "7   Canana       Torento           82          True\n",
            "8   Russia        Moscow           68          True\n",
            "9   Franch         Paris           71          True\n"
          ]
        }
      ]
    },
    {
      "cell_type": "code",
      "source": [
        "print(driving[series==False])    #here we filter only false value of Driving_left"
      ],
      "metadata": {
        "colab": {
          "base_uri": "https://localhost:8080/"
        },
        "id": "0lVAN0A0AM7e",
        "outputId": "b85009ae-0d8e-4651-8763-940f4f537fd1"
      },
      "execution_count": 104,
      "outputs": [
        {
          "output_type": "stream",
          "name": "stdout",
          "text": [
            "      Country    Capital  Car_per_cap  Driving_left\n",
            "2  Bangladesh      Dhaka           14         False\n",
            "3     England     London           73         False\n",
            "4       India      Delhi           23         False\n",
            "5    Pakistan  Islamabad           18         False\n"
          ]
        }
      ]
    },
    {
      "cell_type": "markdown",
      "source": [
        "Now,\n",
        "\n",
        "we want to filter car_per_cap column, where cer_per_cap is greater or equal to 80.\n",
        "\n",
        "so, we have to make 'car_per_cap' as a series. Then use this series to achive tergeted observation from 'driving' DataFrame."
      ],
      "metadata": {
        "id": "10IX6SOME6he"
      }
    },
    {
      "cell_type": "code",
      "source": [
        "s_cpc=driving.iloc[:,2]\n",
        "print(s_cpc)"
      ],
      "metadata": {
        "colab": {
          "base_uri": "https://localhost:8080/"
        },
        "id": "Ndj4UjxIFwVy",
        "outputId": "b6edd647-08dc-4118-e9bb-065bbbc5585b"
      },
      "execution_count": 105,
      "outputs": [
        {
          "output_type": "stream",
          "name": "stdout",
          "text": [
            "0    80\n",
            "1    76\n",
            "2    14\n",
            "3    73\n",
            "4    23\n",
            "5    18\n",
            "6    56\n",
            "7    82\n",
            "8    68\n",
            "9    71\n",
            "Name: Car_per_cap, dtype: int64\n"
          ]
        }
      ]
    },
    {
      "cell_type": "code",
      "source": [
        "print(driving[s_cpc>=80])"
      ],
      "metadata": {
        "colab": {
          "base_uri": "https://localhost:8080/"
        },
        "id": "HTVw7TA9GRG1",
        "outputId": "f1719ce9-9a95-403c-d793-8bde0d63c0d8"
      },
      "execution_count": 113,
      "outputs": [
        {
          "output_type": "stream",
          "name": "stdout",
          "text": [
            "   Country       Capital  Car_per_cap  Driving_left\n",
            "0  America  Wasington DC           80          True\n",
            "7   Canana       Torento           82          True\n"
          ]
        }
      ]
    },
    {
      "cell_type": "code",
      "source": [
        "print(driving[s_cpc<=70])"
      ],
      "metadata": {
        "colab": {
          "base_uri": "https://localhost:8080/"
        },
        "id": "Lyb899bXG-N1",
        "outputId": "1c636aa7-e0d2-43e5-8b36-1e5dd9ff8abd"
      },
      "execution_count": 116,
      "outputs": [
        {
          "output_type": "stream",
          "name": "stdout",
          "text": [
            "      Country    Capital  Car_per_cap  Driving_left\n",
            "2  Bangladesh      Dhaka           14         False\n",
            "4       India      Delhi           23         False\n",
            "5    Pakistan  Islamabad           18         False\n",
            "6       Japan      Tokio           56          True\n",
            "8      Russia     Moscow           68          True\n"
          ]
        }
      ]
    },
    {
      "cell_type": "markdown",
      "source": [
        "Now, what if we want to filter car_per_cap, which is greater or equal than 70 & less or equal than 80?\n",
        "\n",
        "Here comes the NumPy logical and & logical or & logical not.\n",
        "\n",
        "np.logical_and()\n",
        "\n",
        "np.logical_or()\n",
        "\n",
        "np.logical_not()\n",
        "\n",
        "Ques: Observations with cars_per_cap between 70 and 80"
      ],
      "metadata": {
        "id": "5NNGin5oMXfP"
      }
    },
    {
      "cell_type": "code",
      "source": [
        "import numpy as np\n",
        "and_s_cpc = np.logical_and(s_cpc>=70,s_cpc<=80)\n",
        "print(driving[and_s_cpc])"
      ],
      "metadata": {
        "colab": {
          "base_uri": "https://localhost:8080/"
        },
        "id": "2on__nDMMSpJ",
        "outputId": "7b62fff6-c2a2-4238-887e-9833c3644ea5"
      },
      "execution_count": 125,
      "outputs": [
        {
          "output_type": "stream",
          "name": "stdout",
          "text": [
            "   Country       Capital  Car_per_cap  Driving_left\n",
            "0  America  Wasington DC           80          True\n",
            "1    China       Beijing           76          True\n",
            "3  England        London           73         False\n",
            "9   Franch         Paris           71          True\n"
          ]
        }
      ]
    },
    {
      "cell_type": "markdown",
      "source": [
        "Ques: Observations with cars_per_cap less than 50 or \n",
        "greater than 80"
      ],
      "metadata": {
        "id": "1woZmFVdPHwT"
      }
    },
    {
      "cell_type": "code",
      "source": [
        "or_s_cpc = np.logical_or(s_cpc<50,s_cpc>80)\n",
        "print(driving[or_s_cpc])"
      ],
      "metadata": {
        "colab": {
          "base_uri": "https://localhost:8080/"
        },
        "id": "ytsBqawoPM3b",
        "outputId": "afd9709b-b863-473d-b7c7-0c10853670a8"
      },
      "execution_count": 128,
      "outputs": [
        {
          "output_type": "stream",
          "name": "stdout",
          "text": [
            "      Country    Capital  Car_per_cap  Driving_left\n",
            "2  Bangladesh      Dhaka           14         False\n",
            "4       India      Delhi           23         False\n",
            "5    Pakistan  Islamabad           18         False\n",
            "7      Canana    Torento           82          True\n"
          ]
        }
      ]
    }
  ]
}