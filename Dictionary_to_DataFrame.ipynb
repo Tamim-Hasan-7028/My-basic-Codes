{
  "nbformat": 4,
  "nbformat_minor": 0,
  "metadata": {
    "colab": {
      "provenance": [],
      "collapsed_sections": []
    },
    "kernelspec": {
      "name": "python3",
      "display_name": "Python 3"
    },
    "language_info": {
      "name": "python"
    }
  },
  "cells": [
    {
      "cell_type": "markdown",
      "source": [
        "Creating dictionaries from list."
      ],
      "metadata": {
        "id": "E8d48Rh5ofxt"
      }
    },
    {
      "cell_type": "code",
      "source": [
        "countries = ['spain', 'france', 'germany', 'norway']\n",
        "capitals = ['madrid', 'paris', 'berlin', 'oslo']\n",
        "\n",
        "europe={'spain':'madrid','france':'paris','germany':'berlin','norway':'oslo'}\n",
        "print(europe)\n",
        "print(type(europe))"
      ],
      "metadata": {
        "colab": {
          "base_uri": "https://localhost:8080/"
        },
        "id": "ht_QSCCAokn9",
        "outputId": "f0e05567-d6b5-4361-be5c-33fa34c2fdbd"
      },
      "execution_count": 1,
      "outputs": [
        {
          "output_type": "stream",
          "name": "stdout",
          "text": [
            "{'spain': 'madrid', 'france': 'paris', 'germany': 'berlin', 'norway': 'oslo'}\n",
            "<class 'dict'>\n"
          ]
        }
      ]
    },
    {
      "cell_type": "markdown",
      "source": [
        "Finding keys & values with .keys() & .values() from dictionary."
      ],
      "metadata": {
        "id": "mjDcAhVepd4j"
      }
    },
    {
      "cell_type": "code",
      "source": [
        "print(europe.keys())\n",
        "print(europe.values())"
      ],
      "metadata": {
        "colab": {
          "base_uri": "https://localhost:8080/"
        },
        "id": "hERJjyOepsUu",
        "outputId": "4745b0bb-a5e5-4253-dd7d-ac6ff22ba64f"
      },
      "execution_count": 2,
      "outputs": [
        {
          "output_type": "stream",
          "name": "stdout",
          "text": [
            "dict_keys(['spain', 'france', 'germany', 'norway'])\n",
            "dict_values(['madrid', 'paris', 'berlin', 'oslo'])\n"
          ]
        }
      ]
    },
    {
      "cell_type": "markdown",
      "source": [
        "Finding a value using key from dictionary."
      ],
      "metadata": {
        "id": "WI3H1S0Mq-EE"
      }
    },
    {
      "cell_type": "code",
      "source": [
        "print('spain capital: '+europe['spain'])\n",
        "print('france capital: '+europe['france'])"
      ],
      "metadata": {
        "colab": {
          "base_uri": "https://localhost:8080/"
        },
        "id": "MnJA1Ug6rEHz",
        "outputId": "53df4739-0723-483f-fcff-c18e6b987ca9"
      },
      "execution_count": 4,
      "outputs": [
        {
          "output_type": "stream",
          "name": "stdout",
          "text": [
            "spain capital: madrid\n",
            "france capital: paris\n"
          ]
        }
      ]
    },
    {
      "cell_type": "markdown",
      "source": [
        "Adding new key & value in dictionary."
      ],
      "metadata": {
        "id": "NKi0UtnVsb_u"
      }
    },
    {
      "cell_type": "code",
      "source": [
        "europe['italy']='roMa'\n",
        "europe['poland']='warsaw'\n",
        "print(europe)"
      ],
      "metadata": {
        "colab": {
          "base_uri": "https://localhost:8080/"
        },
        "id": "43v463_PtG8F",
        "outputId": "29fbba54-2763-48f5-da49-45533eb5ac0d"
      },
      "execution_count": 6,
      "outputs": [
        {
          "output_type": "stream",
          "name": "stdout",
          "text": [
            "{'spain': 'madrid', 'france': 'paris', 'germany': 'berlin', 'norway': 'oslo', 'italy': 'roMa', 'poland': 'warsaw'}\n"
          ]
        }
      ]
    },
    {
      "cell_type": "markdown",
      "source": [
        "Replacing key & value with existing key & value."
      ],
      "metadata": {
        "id": "lDt0OKnptr_6"
      }
    },
    {
      "cell_type": "code",
      "source": [
        "europe['italy']='rome'\n",
        "print(europe)"
      ],
      "metadata": {
        "colab": {
          "base_uri": "https://localhost:8080/"
        },
        "id": "fPNSEZWXuJje",
        "outputId": "ab6d3370-0c3f-4b43-e270-19194b947bd1"
      },
      "execution_count": 8,
      "outputs": [
        {
          "output_type": "stream",
          "name": "stdout",
          "text": [
            "{'spain': 'madrid', 'france': 'paris', 'germany': 'berlin', 'norway': 'oslo', 'italy': 'rome', 'poland': 'warsaw'}\n"
          ]
        }
      ]
    },
    {
      "cell_type": "markdown",
      "source": [
        "Removing key from Dictionary."
      ],
      "metadata": {
        "id": "uC8UsPOZuSSx"
      }
    },
    {
      "cell_type": "code",
      "source": [
        "del(europe['spain'])\n",
        "print(europe)"
      ],
      "metadata": {
        "colab": {
          "base_uri": "https://localhost:8080/"
        },
        "id": "6j5IRaR-uXsd",
        "outputId": "10a1b859-f484-422e-8dc7-6128da54e010"
      },
      "execution_count": 9,
      "outputs": [
        {
          "output_type": "stream",
          "name": "stdout",
          "text": [
            "{'france': 'paris', 'germany': 'berlin', 'norway': 'oslo', 'italy': 'rome', 'poland': 'warsaw'}\n"
          ]
        }
      ]
    },
    {
      "cell_type": "markdown",
      "source": [
        "Dictionary of Dictionaries [like list of list]"
      ],
      "metadata": {
        "id": "m2Y2Dle6vhhn"
      }
    },
    {
      "cell_type": "code",
      "source": [
        "Asia={'Bangladesh':{'Capital':'Dhaka','Currency':'Taka'},\n",
        "      'India':{'Capital':'Delhi','Currency':'Rupi'},\n",
        "      'Pakistan':{'Capital':'Islamabad','Currency':'Rupi'},\n",
        "      'China':{'Capital':'Beijing','Currency':'Renminbi'},\n",
        "      'Japan':{'Capital':'Tokio','Currency':'Yen'}}\n",
        "print(Asia)"
      ],
      "metadata": {
        "colab": {
          "base_uri": "https://localhost:8080/"
        },
        "id": "CFhl-LfPvs6r",
        "outputId": "763aac9d-5870-494d-eb8c-bfeafbef71ee"
      },
      "execution_count": 19,
      "outputs": [
        {
          "output_type": "stream",
          "name": "stdout",
          "text": [
            "{'Bangladesh': {'Capital': 'Dhaka', 'Currency': 'Taka'}, 'India': {'Capital': 'Delhi', 'Currency': 'Rupi'}, 'Pakistan': {'Capital': 'Islamabad', 'Currency': 'Rupi'}, 'China': {'Capital': 'Beijing', 'Currency': 'Renminbi'}, 'Japan': {'Capital': 'Tokio', 'Currency': 'Yen'}}\n"
          ]
        }
      ]
    },
    {
      "cell_type": "markdown",
      "source": [
        "Subsetting.\n",
        "Print out the currency of Japan"
      ],
      "metadata": {
        "id": "Szdp9tnvx7EC"
      }
    },
    {
      "cell_type": "code",
      "source": [
        "print(Asia['Japan']['Currency'])"
      ],
      "metadata": {
        "colab": {
          "base_uri": "https://localhost:8080/"
        },
        "id": "vafNjbJmyCQ0",
        "outputId": "8baa68a0-4f60-4b17-f1a5-cbb2a8d3ae4c"
      },
      "execution_count": 11,
      "outputs": [
        {
          "output_type": "stream",
          "name": "stdout",
          "text": [
            "Yen\n"
          ]
        }
      ]
    },
    {
      "cell_type": "markdown",
      "source": [
        "Print out the Capital of Bangladesh"
      ],
      "metadata": {
        "id": "4ZMc7P3hyLDt"
      }
    },
    {
      "cell_type": "code",
      "source": [
        "print(Asia['Bangladesh']['Capital'])"
      ],
      "metadata": {
        "colab": {
          "base_uri": "https://localhost:8080/"
        },
        "id": "xtXuet4OyWXq",
        "outputId": "9f9e7e7d-2b69-4eab-adb0-c243ef68ccec"
      },
      "execution_count": 12,
      "outputs": [
        {
          "output_type": "stream",
          "name": "stdout",
          "text": [
            "Dhaka\n"
          ]
        }
      ]
    },
    {
      "cell_type": "markdown",
      "source": [
        "Addition in dict of dict"
      ],
      "metadata": {
        "id": "tDZvoByQyghp"
      }
    },
    {
      "cell_type": "code",
      "source": [
        "Asia['Bahrain']={'Capital':'Manama','Currency':'Dinar'}\n",
        "print(Asia)"
      ],
      "metadata": {
        "colab": {
          "base_uri": "https://localhost:8080/"
        },
        "id": "pIJWuav_ymKl",
        "outputId": "15bcdb5c-45b7-4ca8-9d07-426748c01110"
      },
      "execution_count": 13,
      "outputs": [
        {
          "output_type": "stream",
          "name": "stdout",
          "text": [
            "{'Bangladesh': {'Capital': 'Dhaka', 'Currency': 'Taka'}, 'India': {'Capital': 'Delhi', 'Currency': 'Rupi'}, 'Pakistan': {'Capital': 'Islamabad', 'Currency': 'Rupi'}, 'China': {'Capital': 'Beijing', 'Currency': 'Renminbi'}, 'Japan': {'Capital': 'Tokio', 'Currency': 'Yen'}, 'Bahrain': {'Capital': 'Manama', 'Currency': 'Dinar'}}\n"
          ]
        }
      ]
    },
    {
      "cell_type": "markdown",
      "source": [
        "Creating DataFrame from Dictionary"
      ],
      "metadata": {
        "id": "r2O5o598zVzK"
      }
    },
    {
      "cell_type": "code",
      "source": [
        "import pandas as pd\n",
        "AsiaMap=pd.DataFrame(Asia)\n",
        "print(AsiaMap)"
      ],
      "metadata": {
        "colab": {
          "base_uri": "https://localhost:8080/"
        },
        "id": "c0otFFDqzbpG",
        "outputId": "43ec3c49-ea0e-4758-975a-3193d096a40d"
      },
      "execution_count": 14,
      "outputs": [
        {
          "output_type": "stream",
          "name": "stdout",
          "text": [
            "         Bangladesh  India   Pakistan     China  Japan Bahrain\n",
            "Capital       Dhaka  Delhi  Islamabad   Beijing  Tokio  Manama\n",
            "Currency       Taka   Rupi       Rupi  Renminbi    Yen   Dinar\n"
          ]
        }
      ]
    },
    {
      "cell_type": "code",
      "source": [
        "Country=['Bangladesh','India','Pakistan','China','Japan','Bahrain']\n",
        "Capital=['Dhaka','Delhi','Islamabad','Beijing','Tokio','Manama']\n",
        "Currency=['Taka','Indian Rupee','Pakistani Rupee','Renminbi','Yen','Dinar']\n",
        "\n",
        "asia={'Country':Country,'Capital':Capital,'Currency':Currency}\n",
        "InfoAsia=pd.DataFrame(asia)\n",
        "print(InfoAsia)"
      ],
      "metadata": {
        "colab": {
          "base_uri": "https://localhost:8080/"
        },
        "id": "SBsbbxj1z818",
        "outputId": "38e37826-ceaa-4ac9-c5e6-eff23ff05c8e"
      },
      "execution_count": 16,
      "outputs": [
        {
          "output_type": "stream",
          "name": "stdout",
          "text": [
            "      Country    Capital         Currency\n",
            "0  Bangladesh      Dhaka             Taka\n",
            "1       India      Delhi     Indian Rupee\n",
            "2    Pakistan  Islamabad  Pakistani Rupee\n",
            "3       China    Beijing         Renminbi\n",
            "4       Japan      Tokio              Yen\n",
            "5     Bahrain     Manama            Dinar\n"
          ]
        }
      ]
    },
    {
      "cell_type": "markdown",
      "source": [
        "Adding Index label in DataFrame\n",
        "\n"
      ],
      "metadata": {
        "id": "sRZ8KaRf1iU7"
      }
    },
    {
      "cell_type": "code",
      "source": [
        "label=['BN','IN','PK','CN','JP','BR']\n",
        "InfoAsia.index=label\n",
        "print(InfoAsia)"
      ],
      "metadata": {
        "colab": {
          "base_uri": "https://localhost:8080/"
        },
        "id": "1XX3RI6D1lqG",
        "outputId": "98156c08-61b3-4208-f53e-e5ef79d13ddc"
      },
      "execution_count": 18,
      "outputs": [
        {
          "output_type": "stream",
          "name": "stdout",
          "text": [
            "       Country    Capital         Currency\n",
            "BN  Bangladesh      Dhaka             Taka\n",
            "IN       India      Delhi     Indian Rupee\n",
            "PK    Pakistan  Islamabad  Pakistani Rupee\n",
            "CN       China    Beijing         Renminbi\n",
            "JP       Japan      Tokio              Yen\n",
            "BR     Bahrain     Manama            Dinar\n"
          ]
        }
      ]
    },
    {
      "cell_type": "markdown",
      "source": [
        "CSV to DataFrame"
      ],
      "metadata": {
        "id": "KyVw8Sn02yWD"
      }
    },
    {
      "cell_type": "code",
      "source": [
        "driving=pd.read_csv('/Cars.csv')\n",
        "print(driving)"
      ],
      "metadata": {
        "colab": {
          "base_uri": "https://localhost:8080/"
        },
        "id": "5WEad1J_9bV9",
        "outputId": "b786c88d-abbc-41cd-d568-cd6e4e322a92"
      },
      "execution_count": 32,
      "outputs": [
        {
          "output_type": "stream",
          "name": "stdout",
          "text": [
            "      Country       Capital  Car_per_cap  Driving_left\n",
            "0     America  Wasington DC           80          True\n",
            "1       China       Beijing           76          True\n",
            "2  Bangladesh         Dhaka           14         False\n",
            "3     England        London           73         False\n",
            "4       India         Delhi           23         False\n",
            "5    Pakistan     Islamabad           18         False\n",
            "6       Japan         Tokio           56          True\n",
            "7      Canana       Torento           82          True\n",
            "8      Russia        Moscow           68          True\n",
            "9      Franch         Paris           71          True\n"
          ]
        }
      ]
    },
    {
      "cell_type": "code",
      "source": [
        "x=['AM','CH','BN','EN','IN','PK','JP','CN','RS','FN']\n",
        "driving.index=x\n",
        "print(driving)"
      ],
      "metadata": {
        "colab": {
          "base_uri": "https://localhost:8080/"
        },
        "id": "WJQx8F6t_MzF",
        "outputId": "880e9e99-7327-40f3-d1b9-9961c1f3dde2"
      },
      "execution_count": 33,
      "outputs": [
        {
          "output_type": "stream",
          "name": "stdout",
          "text": [
            "       Country       Capital  Car_per_cap  Driving_left\n",
            "AM     America  Wasington DC           80          True\n",
            "CH       China       Beijing           76          True\n",
            "BN  Bangladesh         Dhaka           14         False\n",
            "EN     England        London           73         False\n",
            "IN       India         Delhi           23         False\n",
            "PK    Pakistan     Islamabad           18         False\n",
            "JP       Japan         Tokio           56          True\n",
            "CN      Canana       Torento           82          True\n",
            "RS      Russia        Moscow           68          True\n",
            "FN      Franch         Paris           71          True\n"
          ]
        }
      ]
    },
    {
      "cell_type": "markdown",
      "source": [
        "Pandas series & DataFrame"
      ],
      "metadata": {
        "id": "lvUbfl8t_0nd"
      }
    },
    {
      "cell_type": "code",
      "source": [
        "print(driving['Country'])\n",
        "print(type(driving['Country']))"
      ],
      "metadata": {
        "colab": {
          "base_uri": "https://localhost:8080/"
        },
        "id": "mfBLpMCD_8VS",
        "outputId": "0d98ef1b-e268-40f8-ac59-2a7ee0932556"
      },
      "execution_count": 35,
      "outputs": [
        {
          "output_type": "stream",
          "name": "stdout",
          "text": [
            "AM       America\n",
            "CH         China\n",
            "BN    Bangladesh\n",
            "EN       England\n",
            "IN         India\n",
            "PK      Pakistan\n",
            "JP         Japan\n",
            "CN        Canana\n",
            "RS        Russia\n",
            "FN        Franch\n",
            "Name: Country, dtype: object\n",
            "<class 'pandas.core.series.Series'>\n"
          ]
        }
      ]
    },
    {
      "cell_type": "code",
      "source": [
        "print(driving[['Country']])\n",
        "print(type(driving[['Country']]))"
      ],
      "metadata": {
        "colab": {
          "base_uri": "https://localhost:8080/"
        },
        "id": "fwe4VQdzAPWM",
        "outputId": "cf0b241d-1d48-4676-af17-0f5d6a7a0240"
      },
      "execution_count": 36,
      "outputs": [
        {
          "output_type": "stream",
          "name": "stdout",
          "text": [
            "       Country\n",
            "AM     America\n",
            "CH       China\n",
            "BN  Bangladesh\n",
            "EN     England\n",
            "IN       India\n",
            "PK    Pakistan\n",
            "JP       Japan\n",
            "CN      Canana\n",
            "RS      Russia\n",
            "FN      Franch\n",
            "<class 'pandas.core.frame.DataFrame'>\n"
          ]
        }
      ]
    },
    {
      "cell_type": "markdown",
      "source": [
        "print out capital & driving left column (Subsetting)\n",
        "\n",
        "---\n",
        "\n"
      ],
      "metadata": {
        "id": "2EAANxlyAbJv"
      }
    },
    {
      "cell_type": "code",
      "source": [
        "print(driving[['Capital','Driving_left']])"
      ],
      "metadata": {
        "colab": {
          "base_uri": "https://localhost:8080/"
        },
        "id": "lvjS4ytVAwS6",
        "outputId": "e5c3c5a9-6660-4da1-ef64-f169a27c3bb5"
      },
      "execution_count": 37,
      "outputs": [
        {
          "output_type": "stream",
          "name": "stdout",
          "text": [
            "         Capital  Driving_left\n",
            "AM  Wasington DC          True\n",
            "CH       Beijing          True\n",
            "BN         Dhaka         False\n",
            "EN        London         False\n",
            "IN         Delhi         False\n",
            "PK     Islamabad         False\n",
            "JP         Tokio          True\n",
            "CN       Torento          True\n",
            "RS        Moscow          True\n",
            "FN         Paris          True\n"
          ]
        }
      ]
    },
    {
      "cell_type": "markdown",
      "source": [
        "Slicing"
      ],
      "metadata": {
        "id": "Yj-6iWCiBGzr"
      }
    },
    {
      "cell_type": "markdown",
      "source": [
        "print out first 3 observations"
      ],
      "metadata": {
        "id": "kXDX8CO4BUaO"
      }
    },
    {
      "cell_type": "code",
      "source": [
        "print(driving[:3])"
      ],
      "metadata": {
        "colab": {
          "base_uri": "https://localhost:8080/"
        },
        "id": "wMe00TIkBNa1",
        "outputId": "7c13bcd3-a443-4f2d-ccc3-00618e5df8a7"
      },
      "execution_count": 38,
      "outputs": [
        {
          "output_type": "stream",
          "name": "stdout",
          "text": [
            "       Country       Capital  Car_per_cap  Driving_left\n",
            "AM     America  Wasington DC           80          True\n",
            "CH       China       Beijing           76          True\n",
            "BN  Bangladesh         Dhaka           14         False\n"
          ]
        }
      ]
    },
    {
      "cell_type": "markdown",
      "source": [
        "print out 4 to 7th observations"
      ],
      "metadata": {
        "id": "an3EG0dvBgo3"
      }
    },
    {
      "cell_type": "code",
      "source": [
        "print(driving[3:7])"
      ],
      "metadata": {
        "colab": {
          "base_uri": "https://localhost:8080/"
        },
        "id": "PqhPGfqFBlYf",
        "outputId": "917aa7ab-2157-4311-9fb4-628f60fc201d"
      },
      "execution_count": 39,
      "outputs": [
        {
          "output_type": "stream",
          "name": "stdout",
          "text": [
            "     Country    Capital  Car_per_cap  Driving_left\n",
            "EN   England     London           73         False\n",
            "IN     India      Delhi           23         False\n",
            "PK  Pakistan  Islamabad           18         False\n",
            "JP     Japan      Tokio           56          True\n"
          ]
        }
      ]
    },
    {
      "cell_type": "markdown",
      "source": [
        "loc(), iloc()"
      ],
      "metadata": {
        "id": "I3ln_grvCaom"
      }
    },
    {
      "cell_type": "markdown",
      "source": [
        "print info about England & Bangladesh"
      ],
      "metadata": {
        "id": "e89SH6uOCwYB"
      }
    },
    {
      "cell_type": "code",
      "source": [
        "print(driving.loc[['EN','BN']])"
      ],
      "metadata": {
        "colab": {
          "base_uri": "https://localhost:8080/"
        },
        "id": "lnOisTaHCdbY",
        "outputId": "3dffcda3-0412-4046-ddc3-fe27c0124f14"
      },
      "execution_count": 41,
      "outputs": [
        {
          "output_type": "stream",
          "name": "stdout",
          "text": [
            "       Country Capital  Car_per_cap  Driving_left\n",
            "EN     England  London           73         False\n",
            "BN  Bangladesh   Dhaka           14         False\n"
          ]
        }
      ]
    },
    {
      "cell_type": "code",
      "source": [
        "print(driving.iloc[[2,3]])"
      ],
      "metadata": {
        "colab": {
          "base_uri": "https://localhost:8080/"
        },
        "id": "HVtrNf6HDJ14",
        "outputId": "0390917d-7286-484c-e45a-30c62e49ea41"
      },
      "execution_count": 42,
      "outputs": [
        {
          "output_type": "stream",
          "name": "stdout",
          "text": [
            "       Country Capital  Car_per_cap  Driving_left\n",
            "BN  Bangladesh   Dhaka           14         False\n",
            "EN     England  London           73         False\n"
          ]
        }
      ]
    },
    {
      "cell_type": "markdown",
      "source": [
        "print out capital & Driving_left of Bangladesh & Russia"
      ],
      "metadata": {
        "id": "qmUJmi9HDoP1"
      }
    },
    {
      "cell_type": "code",
      "source": [
        "print(driving.loc[['BN','RS'],['Capital','Driving_left']])"
      ],
      "metadata": {
        "colab": {
          "base_uri": "https://localhost:8080/"
        },
        "id": "XZLIveyLD46a",
        "outputId": "8224c767-84f6-4759-cea5-ca7149077053"
      },
      "execution_count": 43,
      "outputs": [
        {
          "output_type": "stream",
          "name": "stdout",
          "text": [
            "   Capital  Driving_left\n",
            "BN   Dhaka         False\n",
            "RS  Moscow          True\n"
          ]
        }
      ]
    },
    {
      "cell_type": "code",
      "source": [
        "print(driving.iloc[[2,8],[1,3]])"
      ],
      "metadata": {
        "colab": {
          "base_uri": "https://localhost:8080/"
        },
        "id": "Dm3f-he6EOPg",
        "outputId": "8b5d17e5-3672-42f9-dc17-b2f4f3cd94e6"
      },
      "execution_count": 44,
      "outputs": [
        {
          "output_type": "stream",
          "name": "stdout",
          "text": [
            "   Capital  Driving_left\n",
            "BN   Dhaka         False\n",
            "RS  Moscow          True\n"
          ]
        }
      ]
    },
    {
      "cell_type": "markdown",
      "source": [
        "print out car_per_cap & Country name "
      ],
      "metadata": {
        "id": "qW11DTV7ElZq"
      }
    },
    {
      "cell_type": "code",
      "source": [
        "print(driving.iloc[:,[0,2]])"
      ],
      "metadata": {
        "colab": {
          "base_uri": "https://localhost:8080/"
        },
        "id": "UbmEe-OTEvpZ",
        "outputId": "015d7db8-0cbc-42c9-8732-409b5ed7683c"
      },
      "execution_count": 45,
      "outputs": [
        {
          "output_type": "stream",
          "name": "stdout",
          "text": [
            "       Country  Car_per_cap\n",
            "AM     America           80\n",
            "CH       China           76\n",
            "BN  Bangladesh           14\n",
            "EN     England           73\n",
            "IN       India           23\n",
            "PK    Pakistan           18\n",
            "JP       Japan           56\n",
            "CN      Canana           82\n",
            "RS      Russia           68\n",
            "FN      Franch           71\n"
          ]
        }
      ]
    },
    {
      "cell_type": "markdown",
      "source": [
        "print out China to Russia's capital, car per cap and driving left info"
      ],
      "metadata": {
        "id": "fklCmlEgFBsA"
      }
    },
    {
      "cell_type": "code",
      "source": [
        "print(driving.iloc[[1,2,3,4,5,6,7,8],[1,2,3]])"
      ],
      "metadata": {
        "colab": {
          "base_uri": "https://localhost:8080/"
        },
        "id": "65iNnkg4FUd4",
        "outputId": "a6f51741-f075-41fd-f025-efd35092e322"
      },
      "execution_count": 48,
      "outputs": [
        {
          "output_type": "stream",
          "name": "stdout",
          "text": [
            "      Capital  Car_per_cap  Driving_left\n",
            "CH    Beijing           76          True\n",
            "BN      Dhaka           14         False\n",
            "EN     London           73         False\n",
            "IN      Delhi           23         False\n",
            "PK  Islamabad           18         False\n",
            "JP      Tokio           56          True\n",
            "CN    Torento           82          True\n",
            "RS     Moscow           68          True\n"
          ]
        }
      ]
    }
  ]
}