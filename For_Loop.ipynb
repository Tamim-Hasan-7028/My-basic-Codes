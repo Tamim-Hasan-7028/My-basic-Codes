{
  "nbformat": 4,
  "nbformat_minor": 0,
  "metadata": {
    "colab": {
      "provenance": [],
      "collapsed_sections": []
    },
    "kernelspec": {
      "name": "python3",
      "display_name": "Python 3"
    },
    "language_info": {
      "name": "python"
    }
  },
  "cells": [
    {
      "cell_type": "markdown",
      "source": [
        "Loop over list\n",
        "\n",
        "---\n"
      ],
      "metadata": {
        "id": "_vHDyF1D8-o0"
      }
    },
    {
      "cell_type": "code",
      "source": [
        "areas = [11.25, 18.0, 20.0, 10.75, 9.50]"
      ],
      "metadata": {
        "id": "5y-mbIWv885F"
      },
      "execution_count": null,
      "outputs": []
    },
    {
      "cell_type": "code",
      "source": [
        "for x in areas:\n",
        "  print(x)"
      ],
      "metadata": {
        "colab": {
          "base_uri": "https://localhost:8080/"
        },
        "id": "YP3YJydn9TtD",
        "outputId": "8a6950da-b9ca-4411-ac16-e168304a0d27"
      },
      "execution_count": null,
      "outputs": [
        {
          "output_type": "stream",
          "name": "stdout",
          "text": [
            "11.25\n",
            "18.0\n",
            "20.0\n",
            "10.75\n",
            "9.5\n"
          ]
        }
      ]
    },
    {
      "cell_type": "code",
      "source": [
        "for x in areas:\n",
        "  print(x+1)"
      ],
      "metadata": {
        "colab": {
          "base_uri": "https://localhost:8080/"
        },
        "id": "Ub42itxl9gid",
        "outputId": "fe868101-b2ca-436e-bc8b-a8775a13d355"
      },
      "execution_count": null,
      "outputs": [
        {
          "output_type": "stream",
          "name": "stdout",
          "text": [
            "12.25\n",
            "19.0\n",
            "21.0\n",
            "11.75\n",
            "10.5\n"
          ]
        }
      ]
    },
    {
      "cell_type": "markdown",
      "source": [
        "Using a for loop to iterate over a list only gives you access to every list element in each run, one after the other. If you also want to access the index information, so where the list element you're iterating over is located, you can use enumerate()."
      ],
      "metadata": {
        "id": "vKcrYkwc98Ik"
      }
    },
    {
      "cell_type": "code",
      "source": [
        "for i,x in enumerate(areas):\n",
        "  print('index '+str(i+1)+', area='+str(x))"
      ],
      "metadata": {
        "colab": {
          "base_uri": "https://localhost:8080/"
        },
        "id": "XSZ9zDDm99la",
        "outputId": "b971eca9-ed08-4fb3-c5c4-aabd74a5c1de"
      },
      "execution_count": null,
      "outputs": [
        {
          "output_type": "stream",
          "name": "stdout",
          "text": [
            "index 1, area=11.25\n",
            "index 2, area=18.0\n",
            "index 3, area=20.0\n",
            "index 4, area=10.75\n",
            "index 5, area=9.5\n"
          ]
        }
      ]
    },
    {
      "cell_type": "markdown",
      "source": [
        "Loop over Nested list\n",
        "\n",
        "---\n"
      ],
      "metadata": {
        "id": "-fpLrT6X-6m2"
      }
    },
    {
      "cell_type": "code",
      "source": [
        "house = [[\"hallway\", 11.25], \n",
        "         [\"kitchen\", 18.0], \n",
        "         [\"living room\", 20.0], \n",
        "         [\"bedroom\", 10.75], \n",
        "         [\"bathroom\", 9.50]]"
      ],
      "metadata": {
        "id": "ia_WpIjg-9BB"
      },
      "execution_count": null,
      "outputs": []
    },
    {
      "cell_type": "code",
      "source": [
        "for x,y in house:\n",
        "  print('This '+x+' size is '+str(y)+' sqm.')"
      ],
      "metadata": {
        "colab": {
          "base_uri": "https://localhost:8080/"
        },
        "id": "DwPLOQ6p---h",
        "outputId": "2b9181cd-5d65-4019-9fc0-12215bc8601f"
      },
      "execution_count": null,
      "outputs": [
        {
          "output_type": "stream",
          "name": "stdout",
          "text": [
            "This hallway size is 11.25 sqm.\n",
            "This kitchen size is 18.0 sqm.\n",
            "This living room size is 20.0 sqm.\n",
            "This bedroom size is 10.75 sqm.\n",
            "This bathroom size is 9.5 sqm.\n"
          ]
        }
      ]
    },
    {
      "cell_type": "markdown",
      "source": [
        "Loop over dictionary\n",
        "\n",
        "\n",
        "---\n",
        "\n"
      ],
      "metadata": {
        "id": "cejALosG_oRz"
      }
    },
    {
      "cell_type": "markdown",
      "source": [
        "you need the .items() method to loop over a dictionary."
      ],
      "metadata": {
        "id": "4br3m-YQ_r1L"
      }
    },
    {
      "cell_type": "code",
      "source": [
        "europe = {'spain':'madrid', 'france':'paris', 'germany':'berlin',\n",
        "          'norway':'oslo', 'italy':'rome', 'poland':'warsaw', 'austria':'vienna' }"
      ],
      "metadata": {
        "id": "GPa2CtNt_rMv"
      },
      "execution_count": null,
      "outputs": []
    },
    {
      "cell_type": "code",
      "source": [
        "for k,v in europe.items():\n",
        "  print(v+' is the capital of '+k+'.')"
      ],
      "metadata": {
        "colab": {
          "base_uri": "https://localhost:8080/"
        },
        "id": "Ttq3RaWJ_4CA",
        "outputId": "2575090e-267f-45ba-8d58-374b3b5dc248"
      },
      "execution_count": null,
      "outputs": [
        {
          "output_type": "stream",
          "name": "stdout",
          "text": [
            "madrid is the capital of spain.\n",
            "paris is the capital of france.\n",
            "berlin is the capital of germany.\n",
            "oslo is the capital of norway.\n",
            "rome is the capital of italy.\n",
            "warsaw is the capital of poland.\n",
            "vienna is the capital of austria.\n"
          ]
        }
      ]
    },
    {
      "cell_type": "markdown",
      "source": [
        "Loop over NumPy arrey\n",
        "\n",
        "---\n",
        "\n",
        "\n"
      ],
      "metadata": {
        "id": "UgrPXNjuARdv"
      }
    },
    {
      "cell_type": "markdown",
      "source": [
        "If you're dealing with a 1D NumPy array, looping over all elements can be as simple as:\n",
        "\n",
        "    for x in my_array :\n",
        "\n",
        "      ...\n",
        "\n",
        "If you're dealing with a 2D NumPy array, it's more complicated. A 2D array is built up of multiple 1D arrays. To explicitly iterate over all separate elements of a multi-dimensional array, you'll need this syntax:\n",
        "\n",
        "    for x in np.nditer(my_array) :\n",
        "   \n",
        "      ..."
      ],
      "metadata": {
        "id": "nDDXQKvFAckg"
      }
    },
    {
      "cell_type": "code",
      "source": [
        "a=[10,87,34,65,21]    \n",
        "b=[[181, 88.4, 35],[184, 91.7, 31],[183, 90.5, 29],[188, 85.2, 30],[189, 87.3, 33]]   \n",
        "\n",
        "import numpy as np\n",
        "np_a=np.array(a)    #1D arrey\n",
        "np_b=np.array(b)    #2D arrey"
      ],
      "metadata": {
        "id": "amXZ1bbhAUCH"
      },
      "execution_count": 18,
      "outputs": []
    },
    {
      "cell_type": "code",
      "source": [
        "for x in np_a:\n",
        "  print('Total point is '+str(x)+'.')"
      ],
      "metadata": {
        "colab": {
          "base_uri": "https://localhost:8080/"
        },
        "id": "nrvmlzPjCFO7",
        "outputId": "959e1944-7ee7-4909-ed30-d1fd93b75dcd"
      },
      "execution_count": 21,
      "outputs": [
        {
          "output_type": "stream",
          "name": "stdout",
          "text": [
            "Total point is 10.\n",
            "Total point is 87.\n",
            "Total point is 34.\n",
            "Total point is 65.\n",
            "Total point is 21.\n"
          ]
        }
      ]
    },
    {
      "cell_type": "code",
      "source": [
        "for f in np.nditer(np_b):\n",
        "  print(f)"
      ],
      "metadata": {
        "colab": {
          "base_uri": "https://localhost:8080/"
        },
        "id": "2luKNJBmCY-i",
        "outputId": "641f96d7-03da-4705-8cac-2525e2d71063"
      },
      "execution_count": 29,
      "outputs": [
        {
          "output_type": "stream",
          "name": "stdout",
          "text": [
            "181.0\n",
            "88.4\n",
            "35.0\n",
            "184.0\n",
            "91.7\n",
            "31.0\n",
            "183.0\n",
            "90.5\n",
            "29.0\n",
            "188.0\n",
            "85.2\n",
            "30.0\n",
            "189.0\n",
            "87.3\n",
            "33.0\n"
          ]
        }
      ]
    },
    {
      "cell_type": "markdown",
      "source": [
        "Loop over DataFrame\n",
        "\n",
        "---\n",
        "\n",
        "\n"
      ],
      "metadata": {
        "id": "gIPZAZc8ExAk"
      }
    },
    {
      "cell_type": "markdown",
      "source": [
        "Iterating over a Pandas DataFrame is typically done with the iterrows() method. Used in a for loop, every observation is iterated over and on every iteration the row and column contents are available:\n",
        "\n",
        "    for row, column in df.iterrows():\n",
        "  \n",
        "      ..."
      ],
      "metadata": {
        "id": "8CEhC88hE_O4"
      }
    },
    {
      "cell_type": "code",
      "source": [
        "import pandas as pd\n",
        "df=pd.read_csv('/content/Cars.csv')\n",
        "print(df)"
      ],
      "metadata": {
        "colab": {
          "base_uri": "https://localhost:8080/"
        },
        "id": "0446oxHWE-Oz",
        "outputId": "256e65ef-3d7b-4350-810d-6f733773ca06"
      },
      "execution_count": 30,
      "outputs": [
        {
          "output_type": "stream",
          "name": "stdout",
          "text": [
            "      Country       Capital  Car_per_cap  Driving_left\n",
            "0     America  Wasington DC           80          True\n",
            "1       China       Beijing           76          True\n",
            "2  Bangladesh         Dhaka           14         False\n",
            "3     England        London           73         False\n",
            "4       India         Delhi           23         False\n",
            "5    Pakistan     Islamabad           18         False\n",
            "6       Japan         Tokio           56          True\n",
            "7      Canana       Torento           82          True\n",
            "8      Russia        Moscow           68          True\n",
            "9      Franch         Paris           71          True\n"
          ]
        }
      ]
    },
    {
      "cell_type": "code",
      "source": [
        "for r,c in df.iterrows():\n",
        "  print('Index '+str(r)+': '+c['Country'])"
      ],
      "metadata": {
        "colab": {
          "base_uri": "https://localhost:8080/"
        },
        "id": "p2P1yu4DGf9a",
        "outputId": "fcbaad57-ef31-41bc-a5c4-fad3a5313b84"
      },
      "execution_count": 38,
      "outputs": [
        {
          "output_type": "stream",
          "name": "stdout",
          "text": [
            "Index 0: America\n",
            "Index 1: China\n",
            "Index 2: Bangladesh\n",
            "Index 3: England\n",
            "Index 4: India\n",
            "Index 5: Pakistan\n",
            "Index 6: Japan\n",
            "Index 7: Canana\n",
            "Index 8: Russia\n",
            "Index 9: Franch\n"
          ]
        }
      ]
    },
    {
      "cell_type": "markdown",
      "source": [
        "Customize a Column and store it into a new Column with for loop.\n",
        "\n",
        "\n",
        "\n",
        "---\n",
        "\n",
        "\n",
        "Using iterrows() to iterate over every observation of a Pandas DataFrame is easy to understand, but not very efficient. On every iteration, you're creating a new Pandas Series.\n",
        "\n",
        "If you want to add a column to a DataFrame by calling a function on another column, the iterrows() method in combination with a for loop is not the preferred way to go. Instead, you'll want to use apply().\n",
        "\n",
        "    for row, column in df.iterrows():\n",
        "\n",
        "      df[\"new_column\"] = df[\"selected_column\"].apply(len)\n",
        "\n",
        "we can use .upper, .lower etc inside .apply()"
      ],
      "metadata": {
        "id": "6bBvCllHInb6"
      }
    },
    {
      "cell_type": "code",
      "source": [
        "for r,c in df.iterrows():\n",
        "  df['COUNTRY']=df['Country'].apply(str.upper)\n",
        "print(df)"
      ],
      "metadata": {
        "colab": {
          "base_uri": "https://localhost:8080/"
        },
        "id": "EfMywjoZJP9p",
        "outputId": "4c016b8f-7deb-4ee9-85b2-5727e373331c"
      },
      "execution_count": 42,
      "outputs": [
        {
          "output_type": "stream",
          "name": "stdout",
          "text": [
            "      Country       Capital  Car_per_cap  Driving_left     COUNTRY\n",
            "0     America  Wasington DC           80          True     AMERICA\n",
            "1       China       Beijing           76          True       CHINA\n",
            "2  Bangladesh         Dhaka           14         False  BANGLADESH\n",
            "3     England        London           73         False     ENGLAND\n",
            "4       India         Delhi           23         False       INDIA\n",
            "5    Pakistan     Islamabad           18         False    PAKISTAN\n",
            "6       Japan         Tokio           56          True       JAPAN\n",
            "7      Canana       Torento           82          True      CANANA\n",
            "8      Russia        Moscow           68          True      RUSSIA\n",
            "9      Franch         Paris           71          True      FRANCH\n"
          ]
        }
      ]
    }
  ]
}